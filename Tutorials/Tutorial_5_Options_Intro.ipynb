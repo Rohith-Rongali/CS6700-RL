{
  "cells": [
    {
      "cell_type": "markdown",
      "metadata": {
        "id": "pn7PKu9r0asK"
      },
      "source": [
        "#Tutorial 5 - Options Intro\n",
        "\n",
        "Please complete this tutorial to get an overview of options and an implementation of SMDP Q-Learning and Intra-Option Q-Learning.\n",
        "\n",
        "\n",
        "### References:\n",
        "\n",
        " [Recent Advances in Hierarchical Reinforcement\n",
        "Learning](https://people.cs.umass.edu/~mahadeva/papers/hrl.pdf) is a strong recommendation for topics in HRL that was covered in class. Watch Prof. Ravi's lectures on moodle or nptel for further understanding the core concepts. Contact the TAs for further resources if needed. \n"
      ]
    },
    {
      "cell_type": "code",
      "execution_count": null,
      "metadata": {
        "id": "P_DODRgW_ZKS"
      },
      "outputs": [],
      "source": [
        "'''\n",
        "A bunch of imports, you don't have to worry about these\n",
        "'''\n",
        "\n",
        "import numpy as np\n",
        "import random\n",
        "import gym\n",
        "from gym.wrappers import Monitor\n",
        "import glob\n",
        "import io\n",
        "import matplotlib.pyplot as plt\n",
        "from IPython.display import HTML\n",
        "import pandas as pd"
      ]
    },
    {
      "cell_type": "code",
      "execution_count": null,
      "metadata": {
        "colab": {
          "base_uri": "https://localhost:8080/"
        },
        "id": "fYNA5kiH_esJ",
        "outputId": "f4888e3c-70d8-4275-ab71-da6fc289def8"
      },
      "outputs": [
        {
          "output_type": "stream",
          "name": "stdout",
          "text": [
            "36\n",
            "Number of states: 48\n",
            "Number of actions that an agent can take: 4\n",
            "Action taken: right\n",
            "Transition probability: {'prob': 1.0}\n",
            "Next state: 36\n",
            "Reward recieved: -100\n",
            "Terminal state: False\n",
            "o  o  o  o  o  o  o  o  o  o  o  o\n",
            "o  o  o  o  o  o  o  o  o  o  o  o\n",
            "o  o  o  o  o  o  o  o  o  o  o  o\n",
            "x  C  C  C  C  C  C  C  C  C  C  T\n",
            "\n"
          ]
        }
      ],
      "source": [
        "'''\n",
        "The environment used here is extremely similar to the openai gym ones.\n",
        "At first glance it might look slightly different. \n",
        "The usual commands we use for our experiments are added to this cell to aid you\n",
        "work using this environment.\n",
        "'''\n",
        "\n",
        "#Setting up the environment\n",
        "from gym.envs.toy_text.cliffwalking import CliffWalkingEnv\n",
        "env = CliffWalkingEnv()\n",
        "\n",
        "env.reset()\n",
        "\n",
        "#Current State\n",
        "print(env.s)\n",
        "\n",
        "# 4x12 grid = 48 states\n",
        "print (\"Number of states:\", env.nS)\n",
        "\n",
        "# Primitive Actions\n",
        "action = [\"up\", \"right\", \"down\", \"left\"]\n",
        "#correspond to [0,1,2,3] that's actually passed to the environment\n",
        "\n",
        "# either go left, up, down or right\n",
        "print (\"Number of actions that an agent can take:\", env.nA)\n",
        "\n",
        "# Example Transitions\n",
        "rnd_action = random.randint(0, 3)\n",
        "print (\"Action taken:\", action[rnd_action])\n",
        "next_state, reward, is_terminal, t_prob = env.step(rnd_action)\n",
        "print (\"Transition probability:\", t_prob)\n",
        "print (\"Next state:\", next_state)\n",
        "print (\"Reward recieved:\", reward)\n",
        "print (\"Terminal state:\", is_terminal)\n",
        "env.render()"
      ]
    },
    {
      "cell_type": "markdown",
      "metadata": {
        "id": "apuaOxavDXus"
      },
      "source": [
        "#### Options\n",
        "We custom define very simple options here. They might not be the logical options for this settings deliberately chosen to visualise the Q Table better.\n"
      ]
    },
    {
      "cell_type": "code",
      "execution_count": null,
      "metadata": {
        "id": "g4MRC1p2DZbp",
        "colab": {
          "base_uri": "https://localhost:8080/",
          "height": 52
        },
        "outputId": "e3999869-b8fd-4989-fbbf-cfac51ae729c"
      },
      "outputs": [
        {
          "output_type": "execute_result",
          "data": {
            "text/plain": [
              "'\\nNow the new action space will contain\\nPrimitive Actions: [\"up\", \"right\", \"down\", \"left\"]\\nOptions: [\"Away\",\"Close\"]\\nTotal Actions :[\"up\", \"right\", \"down\", \"left\", \"Away\", \"Close\"]\\nCorresponding to [0,1,2,3,4,5]\\n'"
            ],
            "application/vnd.google.colaboratory.intrinsic+json": {
              "type": "string"
            }
          },
          "metadata": {},
          "execution_count": 67
        }
      ],
      "source": [
        "# We are defining two more options here\n",
        "# Option 1 [\"Away\"] - > Away from Cliff (ie keep going up)\n",
        "# Option 2 [\"Close\"] - > Close to Cliff (ie keep going down) \n",
        "\n",
        "def Away(env,state):\n",
        "    \n",
        "    optdone = False\n",
        "    optact = 0\n",
        "    \n",
        "    if (int(state/12) == 0):\n",
        "        optdone = True\n",
        "    \n",
        "    return [optact,optdone]\n",
        "    \n",
        "def Close(env,state):\n",
        "    \n",
        "    optdone = False\n",
        "    optact = 2\n",
        "    \n",
        "    if (int(state/12) == 2):\n",
        "        optdone = True\n",
        "\n",
        "    if (int(state/12) == 3):\n",
        "        optdone = True\n",
        "    \n",
        "    return [optact,optdone]\n",
        "    \n",
        "    \n",
        "'''\n",
        "Now the new action space will contain\n",
        "Primitive Actions: [\"up\", \"right\", \"down\", \"left\"]\n",
        "Options: [\"Away\",\"Close\"]\n",
        "Total Actions :[\"up\", \"right\", \"down\", \"left\", \"Away\", \"Close\"]\n",
        "Corresponding to [0,1,2,3,4,5]\n",
        "'''"
      ]
    },
    {
      "cell_type": "code",
      "source": [
        "\n",
        "seed = 44\n",
        "rg = np.random.RandomState(seed)\n",
        "rg.rand()\n",
        "rg.choice([0,1,2,3,4,5])"
      ],
      "metadata": {
        "colab": {
          "base_uri": "https://localhost:8080/"
        },
        "id": "8T7YLOXL5aQm",
        "outputId": "a3523d2f-2b35-42ab-b6e3-30e8f7bf128f"
      },
      "execution_count": null,
      "outputs": [
        {
          "output_type": "execute_result",
          "data": {
            "text/plain": [
              "4"
            ]
          },
          "metadata": {},
          "execution_count": 48
        }
      ]
    },
    {
      "cell_type": "markdown",
      "metadata": {
        "id": "Jmv5c0XoK8GA"
      },
      "source": [
        "# Task 1\n",
        "Complete the code cell below\n"
      ]
    },
    {
      "cell_type": "code",
      "execution_count": null,
      "metadata": {
        "id": "bh_oghc7Ledh"
      },
      "outputs": [],
      "source": [
        "#Q-Table: (States x Actions) === (env.ns(48) x total actions(6))\n",
        "\n",
        "q_values_SMDP2 = np.zeros((48,6))\n",
        "#Update_Frequency Data structure? Check TODO 4\n",
        "\n",
        "\n",
        "ufd2 = np.zeros((48,6))#Update_Frequency Data structure\n",
        "\n",
        "actions=[0,1,2,3,4,5]\n",
        "# TODO: epsilon-greedy action selection function\n",
        "seed = 36\n",
        "rg = np.random.RandomState(seed)\n",
        "\n",
        "def egreedy_policy(q_values,state,epsilon):\n",
        "    if rg.rand() < epsilon:\n",
        "        return rg.choice([0,1,2,3,4,5])\n",
        "    else:\n",
        "        #max = np.max(q_values[state]) \n",
        "        #return rg.choice(np.where(q_values[state] == max)[0])\n",
        "        return np.argmax(q_values[state])"
      ]
    },
    {
      "cell_type": "markdown",
      "metadata": {
        "id": "N8VJYkqoLqlO"
      },
      "source": [
        "# Task 2\n",
        "Below is an incomplete code cell with the flow of SMDP Q-Learning. Complete the cell and train the agent using SMDP Q-Learning algorithm.\n",
        "Keep the **final Q-table** and **Update Frequency** table handy (You'll need it in TODO 4)"
      ]
    },
    {
      "cell_type": "code",
      "source": [
        "q_values_SMDP = np.zeros((48,6))\n",
        "ufd1 = np.zeros((48,6))#Update_Frequency Data structure"
      ],
      "metadata": {
        "id": "Xg5xCqFafCFI"
      },
      "execution_count": null,
      "outputs": []
    },
    {
      "cell_type": "code",
      "execution_count": null,
      "metadata": {
        "id": "ok_5eQM7OCTj"
      },
      "outputs": [],
      "source": [
        "#### SMDP Q-Learning \n",
        "\n",
        "# Add parameters you might need here\n",
        "gamma = 0.9\n",
        "alpha = 0.4\n",
        "\n",
        "# Iterate over 1000 episodes\n",
        "for _ in range(1000):\n",
        "    state = env.reset()    \n",
        "    done = False\n",
        "\n",
        "    # While episode is not over\n",
        "    while not done:\n",
        "        \n",
        "        # Choose action        \n",
        "        action = egreedy_policy(q_values_SMDP, state, epsilon=0.1)\n",
        "        \n",
        "        # Checking if primitive action\n",
        "        if action < 4:\n",
        "            # Perform regular Q-Learning update for state-action pair\n",
        "\n",
        "            next_state, reward, done,_ = env.step(action)\n",
        "            q_values_SMDP[state, action] += alpha*(reward + gamma*np.max([q_values_SMDP[next_state, action] for action in actions]) - q_values_SMDP[state, action])\n",
        "            ufd1[state,action] += 1\n",
        "            state = next_state\n",
        "        \n",
        "        # Checking if action chosen is an option\n",
        "        reward_bar = 0\n",
        "        if action == 4: # action => Away option\n",
        "            \n",
        "            initial_state = np.copy(state)\n",
        "            optdone = False\n",
        "            count=0\n",
        "            while (optdone == False):\n",
        "                \n",
        "                # Think about what this function might do?\n",
        "                optact,_ = Away(env,state) \n",
        "                #\n",
        "                next_state, reward, done,_ = env.step(optact)\n",
        "\n",
        "                \n",
        "                _,optdone = Away(env,next_state) \n",
        "                \n",
        "                # Is this formulation right? What is this term?\n",
        "                # Ans: the accumulates return for the entire option\n",
        "                #if next_state != state:\n",
        "                reward_bar = reward_bar +  (gamma**count)*reward\n",
        "                count+=1\n",
        "                # Complete SMDP Q-Learning Update\n",
        "                # Remember SMDP Updates. When & What do you update? \n",
        "                state = next_state\n",
        "\n",
        "            q_values_SMDP[initial_state, action] += alpha*(reward_bar + (gamma**count)*np.max([q_values_SMDP[state, action] for action in actions]) - q_values_SMDP[initial_state, action])\n",
        "            ufd1[initial_state,action] += 1\n",
        "              \n",
        "           \n",
        "        if action == 5: # action => Close option\n",
        "\n",
        "            initial_state = np.copy(state)\n",
        "            optdone = False\n",
        "            count=0\n",
        "            while (optdone == False):\n",
        "                \n",
        "                # Think about what this function might do?\n",
        "                optact,_ = Close(env,state) \n",
        "                #\n",
        "                next_state, reward, done,_ = env.step(optact)\n",
        "\n",
        "                \n",
        "                _,optdone = Close(env,next_state) \n",
        "                \n",
        "                # Is this formulation right? What is this term?\n",
        "                # Ans: the accumulates return for the entire option\n",
        "                #if next_state != state:\n",
        "                reward_bar = reward_bar +  (gamma**count)*reward\n",
        "                count+=1\n",
        "                # Complete SMDP Q-Learning Update\n",
        "                # Remember SMDP Updates. When & What do you update? \n",
        "                state = next_state\n",
        "\n",
        "            q_values_SMDP[initial_state, action] += alpha*(reward_bar + (gamma**count)*np.max([q_values_SMDP[state, action] for action in actions]) - q_values_SMDP[initial_state, action])\n",
        "            ufd1[initial_state,action] += 1\n",
        "\n",
        "\n"
      ]
    },
    {
      "cell_type": "code",
      "source": [
        ""
      ],
      "metadata": {
        "id": "p3wRh11yDb3Z"
      },
      "execution_count": null,
      "outputs": []
    },
    {
      "cell_type": "markdown",
      "metadata": {
        "id": "3SQFbRCHWQyO"
      },
      "source": [
        "# Task 3\n",
        "Using the same options and the SMDP code, implement Intra Option Q-Learning (In the code cell below). You *might not* always have to search through options to find the options with similar policies, think about it. Keep the **final Q-table** and **Update Frequency** table handy (You'll need it in TODO 4)\n",
        "\n"
      ]
    },
    {
      "cell_type": "code",
      "execution_count": null,
      "metadata": {
        "id": "r6A2TdUHWVUN"
      },
      "outputs": [],
      "source": [
        "#### Intra-Option Q-Learning \n",
        "\n",
        "\n",
        "\n",
        "# Add parameters you might need here\n",
        "gamma = 0.9\n",
        "alpha = 0.4\n",
        "\n",
        "# Iterate over 1000 episodes\n",
        "for _ in range(1000):\n",
        "    state = env.reset()    \n",
        "    done = False\n",
        "\n",
        "    # While episode is not over\n",
        "    while not done:\n",
        "        \n",
        "        # Choose action        \n",
        "        action = egreedy_policy(q_values_SMDP2, state, epsilon=0.1)\n",
        "        \n",
        "        # Checking if primitive action\n",
        "        if action < 4:\n",
        "            # Perform regular Q-Learning update for state-action pair\n",
        "\n",
        "            next_state, reward, done,_ = env.step(action)\n",
        "            q_values_SMDP2[state, action] += alpha*(reward + gamma*np.max([q_values_SMDP2[next_state, action] for action in actions]) - q_values_SMDP2[state, action])\n",
        "            ufd2[state,action] += 1\n",
        "\n",
        "            state = next_state\n",
        "        \n",
        "        # Checking if action chosen is an option\n",
        "        reward_bar = 0\n",
        "        if action == 4: # action => Away option\n",
        "\n",
        "            #initial_state = state\n",
        "            optdone = False\n",
        "            #count=0\n",
        "            while (optdone == False) :\n",
        "                \n",
        "                # Think about what this function might do?\n",
        "                optact,_ = Away(env,state) \n",
        "                #\n",
        "                next_state, reward, done,_ = env.step(optact)\n",
        "                _,optdone = Away(env,next_state) \n",
        "\n",
        "                q_values_SMDP2[state, optact] += alpha*(reward + gamma*np.max([q_values_SMDP2[next_state, action] for action in actions]) - q_values_SMDP2[state, optact])\n",
        "                ufd2[state,optact] += 1\n",
        "                \n",
        "                if not optdone:\n",
        "                  q_values_SMDP2[state, action] += alpha*(reward + gamma*q_values_SMDP2[next_state, action] - q_values_SMDP2[state, action])\n",
        "                  ufd2[state,action] += 1\n",
        "                else:\n",
        "                  q_values_SMDP2[state, action] += alpha*(reward + gamma*np.max([q_values_SMDP2[next_state, action] for action in actions]) - q_values_SMDP2[state, action])\n",
        "                  ufd2[state,action] += 1\n",
        "\n",
        "            \n",
        "                # Complete SMDP Q-Learning Update\n",
        "                # Remember SMDP Updates. When & What do you update? \n",
        "                state = next_state\n",
        "\n",
        "            \n",
        "\n",
        "              \n",
        "           \n",
        "        if action == 5: # action => Close option\n",
        "\n",
        "            #initial_state = state\n",
        "            optdone = False\n",
        "            #count=0\n",
        "            while (optdone == False) :\n",
        "                \n",
        "                # Think about what this function might do?\n",
        "                optact,_ = Close(env,state) \n",
        "                #\n",
        "                next_state, reward, done,_ = env.step(optact)\n",
        "                _,optdone = Close(env,next_state) \n",
        "\n",
        "                q_values_SMDP2[state, optact] += alpha*(reward + gamma*np.max([q_values_SMDP2[next_state, action] for action in actions]) - q_values_SMDP2[state, optact])\n",
        "                ufd2[state,optact] += 1\n",
        "                \n",
        "                if not optdone:\n",
        "                  q_values_SMDP2[state, action] += alpha*(reward + gamma*q_values_SMDP2[next_state, action] - q_values_SMDP2[state, action])\n",
        "                  ufd2[state,action] += 1\n",
        "                else:\n",
        "                  q_values_SMDP2[state, action] += alpha*(reward + gamma*np.max([q_values_SMDP2[next_state, action] for action in actions]) - q_values_SMDP2[state, action])\n",
        "                  ufd2[state,action] += 1\n",
        "\n",
        "          \n",
        "                # Complete SMDP Q-Learning Update\n",
        "                # Remember SMDP Updates. When & What do you update? \n",
        "                state = next_state\n",
        "\n",
        "\n"
      ]
    },
    {
      "cell_type": "code",
      "source": [
        ""
      ],
      "metadata": {
        "id": "bRuJ4BaqO9cv"
      },
      "execution_count": null,
      "outputs": []
    },
    {
      "cell_type": "markdown",
      "metadata": {
        "id": "JzUgcwL-VfkO"
      },
      "source": [
        "# Task 4\n",
        "Compare the two Q-Tables and Update Frequencies and provide comments."
      ]
    },
    {
      "cell_type": "code",
      "execution_count": null,
      "metadata": {
        "id": "v8mZE74_Vhmg",
        "colab": {
          "base_uri": "https://localhost:8080/"
        },
        "outputId": "315d199a-7c20-4047-9395-74a535c5af40"
      },
      "outputs": [
        {
          "output_type": "stream",
          "name": "stdout",
          "text": [
            "          up       right        down      left      Away       Close\n",
            "0  -7.723350   -7.673279   -7.673700 -7.720924 -7.719956   -7.684267\n",
            "1  -7.492889   -7.429193   -7.429922 -7.656083 -7.547030   -7.436956\n",
            "2  -7.185370   -7.160253   -7.160402 -7.227078 -7.251876   -7.165101\n",
            "3  -7.056034   -6.849924   -6.850342 -7.049109 -6.852688   -6.853364\n",
            "4  -6.518621   -6.504301   -6.507254 -6.829365 -6.658785   -6.504529\n",
            "5  -6.280359   -6.118122   -6.120294 -6.409919 -6.235497   -6.118377\n",
            "6  -5.869688   -5.690003   -5.690244 -6.276430 -5.861083   -5.689720\n",
            "7  -5.349023   -5.213921   -5.215011 -5.516740 -5.343222   -5.214205\n",
            "8  -4.829440   -4.684439   -4.684463 -5.075277 -4.950524   -4.684143\n",
            "9  -4.196216   -4.094398   -4.094810 -4.466637 -4.260241   -4.094529\n",
            "10 -3.778425   -3.438831   -3.438774 -4.451016 -3.731222   -3.438709\n",
            "11 -3.149875   -3.155434   -2.709993 -3.102907 -2.786104   -2.709992\n",
            "12 -7.666658   -7.437925   -7.438822 -7.503608 -7.445794   -7.443662\n",
            "13 -7.469991   -7.169796   -7.169816 -7.267021 -7.381175   -7.169073\n",
            "14 -7.064069   -6.859376   -6.859728 -6.903141 -7.210148   -6.860325\n",
            "15 -6.696308   -6.511577   -6.512158 -6.807075 -6.849006   -6.511908\n",
            "16 -6.142337   -6.125110   -6.125119 -6.515160 -6.543994   -6.125268\n",
            "17 -6.203773   -5.694985   -5.694975 -6.135360 -5.911017   -5.695067\n",
            "18 -5.649312   -5.216839   -5.216891 -5.604845 -5.290202   -5.216793\n",
            "19 -5.060776   -4.685465   -4.685513 -5.176123 -5.233181   -4.685481\n",
            "20 -4.946595   -4.095039   -4.095013 -4.461284 -4.688491   -4.095060\n",
            "21 -4.340364   -3.438970   -3.438967 -4.270179 -4.445448   -3.438972\n",
            "22 -3.709434   -2.709996   -2.709994 -2.852302 -2.854279   -2.709996\n",
            "23 -2.413326   -2.172422   -1.900000 -2.971642 -2.450413   -1.900000\n",
            "24 -7.672518   -7.175705   -7.712315 -7.458122 -8.099543   -7.712321\n",
            "25 -7.448122   -6.861894 -106.712246 -7.458111 -7.871404 -106.707976\n",
            "26 -7.171999   -6.513216 -106.711789 -7.175671 -7.693029 -106.710781\n",
            "27 -6.855667   -6.125795 -106.711993 -6.861885 -7.433508 -106.711788\n",
            "28 -6.511439   -5.695328 -106.711787 -6.513192 -7.162859 -106.705618\n",
            "29 -6.124953   -5.217031 -106.709871 -6.125791 -6.847163 -106.700672\n",
            "30 -5.692495   -4.685590 -106.709880 -5.695239 -6.489233 -106.710812\n",
            "31 -5.216687   -4.095100 -106.708291 -5.217009 -6.117603 -106.680415\n",
            "32 -4.685231   -3.439000 -106.660513 -4.685575 -5.691190 -106.711406\n",
            "33 -4.085939   -2.710000 -106.474486 -4.095094 -5.214530 -106.705668\n",
            "34 -3.438881   -1.900000 -106.626058 -3.438913 -4.685055 -106.708137\n",
            "35 -2.709997   -1.899612   -1.000000 -2.709997 -4.094987   -1.000000\n",
            "36 -7.458134 -106.712243   -7.712321 -7.712320 -8.285649   -7.712320\n",
            "37  0.000000    0.000000    0.000000  0.000000  0.000000    0.000000\n",
            "38  0.000000    0.000000    0.000000  0.000000  0.000000    0.000000\n",
            "39  0.000000    0.000000    0.000000  0.000000  0.000000    0.000000\n",
            "40  0.000000    0.000000    0.000000  0.000000  0.000000    0.000000\n",
            "41  0.000000    0.000000    0.000000  0.000000  0.000000    0.000000\n",
            "42  0.000000    0.000000    0.000000  0.000000  0.000000    0.000000\n",
            "43  0.000000    0.000000    0.000000  0.000000  0.000000    0.000000\n",
            "44  0.000000    0.000000    0.000000  0.000000  0.000000    0.000000\n",
            "45  0.000000    0.000000    0.000000  0.000000  0.000000    0.000000\n",
            "46  0.000000    0.000000    0.000000  0.000000  0.000000    0.000000\n",
            "47  0.000000    0.000000    0.000000  0.000000  0.000000    0.000000\n"
          ]
        }
      ],
      "source": [
        "from pandas.core.frame import DataFrame\n",
        "def table_render(arr):\n",
        "  print(DataFrame(arr,columns=[\"up\", \"right\", \"down\", \"left\", \"Away\", \"Close\"]))\n",
        "\n",
        "table_render(q_values_SMDP)"
      ]
    },
    {
      "cell_type": "code",
      "source": [
        "table_render(q_values_SMDP2)"
      ],
      "metadata": {
        "colab": {
          "base_uri": "https://localhost:8080/"
        },
        "id": "ngEPabf3TIM6",
        "outputId": "b135c0c4-4fac-4f8d-c681-1371f2ada935"
      },
      "execution_count": null,
      "outputs": [
        {
          "output_type": "stream",
          "name": "stdout",
          "text": [
            "          up       right        down      left      Away       Close\n",
            "0  -7.791814   -7.709004   -7.710273 -7.812283 -7.791814   -7.708910\n",
            "1  -7.568938   -7.457301   -7.457524 -7.485172 -7.568745   -7.457161\n",
            "2  -7.399192   -7.175212   -7.175475 -7.339622 -7.399138   -7.175404\n",
            "3  -6.977592   -6.861692   -6.861799 -7.023587 -6.974668   -6.861738\n",
            "4  -6.545810   -6.513088   -6.513191 -6.874520 -6.515168   -6.513128\n",
            "5  -6.393669   -6.125717   -6.125740 -6.485679 -6.386120   -6.125727\n",
            "6  -6.034377   -5.695277   -5.695322 -6.291167 -6.033929   -5.695305\n",
            "7  -5.385022   -5.217016   -5.217021 -5.503846 -5.383960   -5.217017\n",
            "8  -5.064566   -4.685585   -4.685587 -4.750355 -4.963330   -4.685585\n",
            "9  -4.481449   -4.095099   -4.095100 -4.946974 -4.344957   -4.095098\n",
            "10 -3.991223   -3.439000   -3.439000 -4.122576 -3.617607   -3.439000\n",
            "11 -2.828941   -2.786104   -2.710000 -3.301609 -2.786104   -2.710000\n",
            "12 -7.934448   -7.457918   -7.458099 -7.532526 -7.934448   -7.458062\n",
            "13 -7.709915   -7.175696   -7.175703 -7.191650 -7.709615   -7.175701\n",
            "14 -7.455277   -6.861894   -6.861894 -7.248717 -7.454619   -6.861894\n",
            "15 -7.175156   -6.513216   -6.513216 -6.588745 -7.175156   -6.513216\n",
            "16 -6.859521   -6.125795   -6.125795 -6.606191 -6.858995   -6.125795\n",
            "17 -6.512581   -5.695328   -5.695328 -6.318102 -6.512576   -5.695328\n",
            "18 -6.124432   -5.217031   -5.217031 -5.332448 -6.124432   -5.217031\n",
            "19 -5.695272   -4.685590   -4.685590 -5.343632 -5.695215   -4.685590\n",
            "20 -5.216866   -4.095100   -4.095100 -4.794665 -5.216827   -4.095100\n",
            "21 -4.685529   -3.439000   -3.439000 -3.866034 -4.685482   -3.439000\n",
            "22 -4.094704   -2.710000   -2.710000 -3.672506 -4.094702   -2.710000\n",
            "23 -3.438972   -2.387452   -1.900000 -2.971314 -3.438971   -1.900000\n",
            "24 -7.711881   -7.175705   -7.712321 -7.458134 -8.135837   -7.712283\n",
            "25 -7.458097   -6.861894 -106.712321 -7.458124 -7.933475 -106.705288\n",
            "26 -7.175703   -6.513216 -106.712321 -7.175703 -7.700024 -106.622958\n",
            "27 -6.861893   -6.125795 -106.712321 -6.861782 -7.456392 -106.712312\n",
            "28 -6.513215   -5.695328 -106.712321 -6.513204 -7.162696 -106.711918\n",
            "29 -6.125795   -5.217031 -106.712321 -6.125597 -6.859383 -106.710878\n",
            "30 -5.695328   -4.685590 -106.712320 -5.695326 -6.505803 -106.660888\n",
            "31 -5.217031   -4.095100 -106.712099 -5.216511 -6.125129 -106.569512\n",
            "32 -4.685590   -3.439000 -106.712319 -4.684870 -5.693817 -106.709213\n",
            "33 -4.095100   -2.710000 -106.712320 -4.095072 -5.214495 -106.693873\n",
            "34 -3.439000   -1.900000 -106.712320 -3.438566 -4.679456 -106.711456\n",
            "35 -2.710000   -1.900000   -1.000000 -2.705417 -4.094636   -1.000000\n",
            "36 -7.458134 -106.712317   -7.712321 -7.712317 -8.296564   -7.712297\n",
            "37  0.000000    0.000000    0.000000  0.000000  0.000000    0.000000\n",
            "38  0.000000    0.000000    0.000000  0.000000  0.000000    0.000000\n",
            "39  0.000000    0.000000    0.000000  0.000000  0.000000    0.000000\n",
            "40  0.000000    0.000000    0.000000  0.000000  0.000000    0.000000\n",
            "41  0.000000    0.000000    0.000000  0.000000  0.000000    0.000000\n",
            "42  0.000000    0.000000    0.000000  0.000000  0.000000    0.000000\n",
            "43  0.000000    0.000000    0.000000  0.000000  0.000000    0.000000\n",
            "44  0.000000    0.000000    0.000000  0.000000  0.000000    0.000000\n",
            "45  0.000000    0.000000    0.000000  0.000000  0.000000    0.000000\n",
            "46  0.000000    0.000000    0.000000  0.000000  0.000000    0.000000\n",
            "47  0.000000    0.000000    0.000000  0.000000  0.000000    0.000000\n"
          ]
        }
      ]
    },
    {
      "cell_type": "markdown",
      "source": [
        "Note that both the methods have converged to similar Q-values.\n",
        " The q-values are very low; close to -106 for action 'down' and option 'close' in states 25-35, since it represents the row above the cliff, and the agent has learnt to avoid those actions."
      ],
      "metadata": {
        "id": "4F-r70ZIgPgq"
      }
    },
    {
      "cell_type": "code",
      "source": [
        "table_render(ufd1)"
      ],
      "metadata": {
        "colab": {
          "base_uri": "https://localhost:8080/"
        },
        "id": "n8N2LIDOTIvg",
        "outputId": "e1545d9a-b74c-4bcb-90c0-1b087d3a49dd"
      },
      "execution_count": null,
      "outputs": [
        {
          "output_type": "stream",
          "name": "stdout",
          "text": [
            "        up   right   down  left  Away  Close\n",
            "0     37.0    82.0   58.0  37.0  37.0   22.0\n",
            "1     34.0    86.0   50.0  26.0  35.0   21.0\n",
            "2     32.0    91.0   53.0  23.0  32.0   22.0\n",
            "3     32.0    90.0   50.0  21.0  29.0   21.0\n",
            "4     27.0    90.0   48.0  20.0  28.0   20.0\n",
            "5     25.0    89.0   44.0  17.0  25.0   20.0\n",
            "6     23.0    81.0   42.0  17.0  22.0   19.0\n",
            "7     19.0    72.0   39.0  14.0  19.0   19.0\n",
            "8     17.0    58.0   37.0  12.0  17.0   19.0\n",
            "9     14.0    49.0   37.0  10.0  14.0   20.0\n",
            "10    12.0    34.0   32.0  11.0  12.0   20.0\n",
            "11    10.0    10.0   34.0   7.0   8.0   26.0\n",
            "12    28.0    70.0   26.0  34.0  26.0   27.0\n",
            "13    26.0    85.0   29.0  23.0  25.0   28.0\n",
            "14    23.0    92.0   30.0  20.0  23.0   30.0\n",
            "15    21.0    87.0   30.0  19.0  21.0   29.0\n",
            "16    19.0    87.0   29.0  18.0  20.0   29.0\n",
            "17    18.0    85.0   28.0  16.0  16.0   28.0\n",
            "18    16.0    79.0   29.0  14.0  14.0   27.0\n",
            "19    14.0    74.0   28.0  12.0  13.0   27.0\n",
            "20    13.0    67.0   26.0  10.0  11.0   27.0\n",
            "21    11.0    47.0   26.0  10.0  11.0   26.0\n",
            "22     9.0    35.0   28.0   6.0   6.0   28.0\n",
            "23     5.0     6.0   42.0   7.0   5.0   41.0\n",
            "24    96.0  1343.0   41.0  51.0  48.0   48.0\n",
            "25    76.0  1268.0   28.0  39.0  27.0   20.0\n",
            "26    61.0  1208.0   24.0  37.0  36.0   22.0\n",
            "27    47.0  1160.0   25.0  38.0  29.0   24.0\n",
            "28    51.0  1114.0   24.0  35.0  32.0   19.0\n",
            "29    46.0  1069.0   21.0  37.0  29.0   18.0\n",
            "30    40.0  1036.0   21.0  30.0  26.0   22.0\n",
            "31    40.0  1009.0   20.0  31.0  24.0   16.0\n",
            "32    33.0   990.0   15.0  30.0  20.0   23.0\n",
            "33    21.0   978.0   12.0  30.0  25.0   19.0\n",
            "34    26.0   973.0   14.0  23.0  26.0   20.0\n",
            "35    31.0    18.0  911.0  28.0  23.0   89.0\n",
            "36  1462.0    28.0   66.0  61.0  34.0   61.0\n",
            "37     0.0     0.0    0.0   0.0   0.0    0.0\n",
            "38     0.0     0.0    0.0   0.0   0.0    0.0\n",
            "39     0.0     0.0    0.0   0.0   0.0    0.0\n",
            "40     0.0     0.0    0.0   0.0   0.0    0.0\n",
            "41     0.0     0.0    0.0   0.0   0.0    0.0\n",
            "42     0.0     0.0    0.0   0.0   0.0    0.0\n",
            "43     0.0     0.0    0.0   0.0   0.0    0.0\n",
            "44     0.0     0.0    0.0   0.0   0.0    0.0\n",
            "45     0.0     0.0    0.0   0.0   0.0    0.0\n",
            "46     0.0     0.0    0.0   0.0   0.0    0.0\n",
            "47     0.0     0.0    0.0   0.0   0.0    0.0\n"
          ]
        }
      ]
    },
    {
      "cell_type": "code",
      "source": [
        "table_render(ufd2)"
      ],
      "metadata": {
        "colab": {
          "base_uri": "https://localhost:8080/"
        },
        "id": "tQBO2dhuTI9P",
        "outputId": "6cdc1414-b77f-4e55-824d-d6933116f20a"
      },
      "execution_count": null,
      "outputs": [
        {
          "output_type": "stream",
          "name": "stdout",
          "text": [
            "        up   right    down  left  Away  Close\n",
            "0     39.0    68.0    52.0  38.0  37.0   34.0\n",
            "1     40.0    84.0    48.0  27.0  35.0   36.0\n",
            "2     38.0    88.0    49.0  23.0  35.0   38.0\n",
            "3     34.0    96.0    49.0  21.0  30.0   39.0\n",
            "4     28.0    93.0    51.0  20.0  26.0   38.0\n",
            "5     29.0    93.0    45.0  18.0  26.0   37.0\n",
            "6     28.0    81.0    46.0  18.0  24.0   37.0\n",
            "7     21.0    79.0    42.0  14.0  19.0   35.0\n",
            "8     24.0    74.0    43.0  12.0  17.0   36.0\n",
            "9     18.0    60.0    43.0  13.0  14.0   36.0\n",
            "10    15.0    41.0    42.0  10.0  11.0   37.0\n",
            "11    10.0     8.0    61.0   8.0   8.0   56.0\n",
            "12    93.0    70.0    51.0  35.0  92.0   45.0\n",
            "13    68.0    82.0    55.0  23.0  65.0   51.0\n",
            "14    55.0    97.0    59.0  22.0  53.0   56.0\n",
            "15    58.0   102.0    60.0  18.0  56.0   57.0\n",
            "16    50.0   102.0    61.0  18.0  46.0   59.0\n",
            "17    45.0    97.0    61.0  17.0  41.0   58.0\n",
            "18    38.0    97.0    62.0  13.0  37.0   59.0\n",
            "19    42.0    88.0    59.0  13.0  38.0   57.0\n",
            "20    37.0    78.0    62.0  11.0  34.0   59.0\n",
            "21    32.0    73.0    62.0   8.0  29.0   60.0\n",
            "22    25.0    59.0    66.0   8.0  24.0   61.0\n",
            "23    28.0     7.0   124.0   7.0  27.0   94.0\n",
            "24   139.0  1347.0    77.0  65.0  91.0   38.0\n",
            "25    88.0  1278.0    40.0  40.0  55.0   19.0\n",
            "26    84.0  1198.0    44.0  44.0  47.0   14.0\n",
            "27    74.0  1138.0    49.0  33.0  50.0   32.0\n",
            "28    61.0  1088.0    44.0  36.0  38.0   25.0\n",
            "29    60.0  1051.0    44.0  30.0  35.0   22.0\n",
            "30    54.0  1010.0    37.0  36.0  31.0   15.0\n",
            "31    52.0   989.0    26.0  24.0  34.0   13.0\n",
            "32    49.0   971.0    36.0  22.0  29.0   21.0\n",
            "33    46.0   942.0    38.0  27.0  24.0   17.0\n",
            "34    36.0   929.0    37.0  20.0  19.0   23.0\n",
            "35    39.0    34.0  1000.0  14.0  24.0   84.0\n",
            "36  1472.0    34.0    80.0  57.0  69.0   53.0\n",
            "37     0.0     0.0     0.0   0.0   0.0    0.0\n",
            "38     0.0     0.0     0.0   0.0   0.0    0.0\n",
            "39     0.0     0.0     0.0   0.0   0.0    0.0\n",
            "40     0.0     0.0     0.0   0.0   0.0    0.0\n",
            "41     0.0     0.0     0.0   0.0   0.0    0.0\n",
            "42     0.0     0.0     0.0   0.0   0.0    0.0\n",
            "43     0.0     0.0     0.0   0.0   0.0    0.0\n",
            "44     0.0     0.0     0.0   0.0   0.0    0.0\n",
            "45     0.0     0.0     0.0   0.0   0.0    0.0\n",
            "46     0.0     0.0     0.0   0.0   0.0    0.0\n",
            "47     0.0     0.0     0.0   0.0   0.0    0.0\n"
          ]
        }
      ]
    },
    {
      "cell_type": "code",
      "source": [
        "np.sum(ufd1),np.sum(ufd2)"
      ],
      "metadata": {
        "colab": {
          "base_uri": "https://localhost:8080/"
        },
        "id": "Z2sO_L0QTGan",
        "outputId": "4eb5343e-d72b-4bcd-dcdf-1ffe74c8fbc0"
      },
      "execution_count": null,
      "outputs": [
        {
          "output_type": "execute_result",
          "data": {
            "text/plain": [
              "(21171.0, 23664.0)"
            ]
          },
          "metadata": {},
          "execution_count": 110
        }
      ]
    },
    {
      "cell_type": "code",
      "source": [
        "print([\"up\", \"right\", \"down\", \"left\", \"Away\", \"Close\"])\n",
        "print(np.sum(ufd1,axis=0))\n",
        "print(np.sum(ufd2,axis=0))"
      ],
      "metadata": {
        "colab": {
          "base_uri": "https://localhost:8080/"
        },
        "id": "JfVks42KiUMY",
        "outputId": "7a615048-7877-4b31-d59b-42a5a50dc95e"
      },
      "execution_count": null,
      "outputs": [
        {
          "output_type": "stream",
          "name": "stdout",
          "text": [
            "['up', 'right', 'down', 'left', 'Away', 'Close']\n",
            "[ 2515. 13840.  2097.   874.   848.   997.]\n",
            "[ 3149. 13826.  2905.   863.  1370.  1551.]\n"
          ]
        }
      ]
    },
    {
      "cell_type": "markdown",
      "source": [
        "Note that the no of updates for the intra option Q-learning is greater than SMDP q-learning. \n",
        "Particularly observe the frequencies of actions 'up' and 'down' and options 'Away' and 'Close'; it's much higher for intra option Q-learning as expected, this is because we update actions 'up' and 'down' even while performing the options. And further the options are updated for each of the intermediate steps."
      ],
      "metadata": {
        "id": "9XD-L7q6iAjZ"
      }
    },
    {
      "cell_type": "code",
      "source": [
        ""
      ],
      "metadata": {
        "id": "Bayb1jNGJ1NT"
      },
      "execution_count": null,
      "outputs": []
    },
    {
      "cell_type": "code",
      "source": [
        ""
      ],
      "metadata": {
        "id": "w_ky3-FgJ4da"
      },
      "execution_count": null,
      "outputs": []
    },
    {
      "cell_type": "code",
      "source": [
        ""
      ],
      "metadata": {
        "id": "FoPF4wb5VL8N"
      },
      "execution_count": null,
      "outputs": []
    }
  ],
  "metadata": {
    "accelerator": "GPU",
    "colab": {
      "collapsed_sections": [],
      "name": "Tutorial_5_Options_Intro.ipynb",
      "provenance": []
    },
    "kernelspec": {
      "display_name": "Python 3",
      "language": "python",
      "name": "python3"
    },
    "language_info": {
      "codemirror_mode": {
        "name": "ipython",
        "version": 3
      },
      "file_extension": ".py",
      "mimetype": "text/x-python",
      "name": "python",
      "nbconvert_exporter": "python",
      "pygments_lexer": "ipython3",
      "version": "3.9.7"
    }
  },
  "nbformat": 4,
  "nbformat_minor": 0
}