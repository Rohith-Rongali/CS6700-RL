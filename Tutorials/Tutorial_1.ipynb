{
  "cells": [
    {
      "cell_type": "markdown",
      "metadata": {
        "id": "MaqQyaO64c4p"
      },
      "source": [
        "In this tutorial, we will cover how to import and run an environment for RL training using OpenAI Gym. We will also look at how well an RL agent trained on this environment to do a specific task performs, compared to an agent taking random actions in the environment.\n",
        "\n"
      ],
      "id": "MaqQyaO64c4p"
    },
    {
      "cell_type": "code",
      "execution_count": null,
      "metadata": {
        "colab": {
          "background_save": true
        },
        "id": "qUmJWFY9qypV",
        "outputId": "8ef2ecdf-b9e4-4a32-ed99-ee7586416dea"
      },
      "outputs": [
        {
          "name": "stdout",
          "output_type": "stream",
          "text": [
            "Requirement already satisfied: setuptools in /usr/local/lib/python3.7/dist-packages (60.6.0)\n"
          ]
        }
      ],
      "source": [
        "#Installing packages for rendering the game on Colab\n",
        "!pip install gym pyvirtualdisplay > /dev/null 2>&1\n",
        "!apt-get install -y xvfb python-opengl ffmpeg > /dev/null 2>&1\n",
        "!apt-get update > /dev/null 2>&1\n",
        "!apt-get install cmake > /dev/null 2>&1\n",
        "!pip install --upgrade setuptools 2>&1\n",
        "!pip install ez_setup > /dev/null 2>&1\n",
        "!pip install gym[atari] > /dev/null 2>&1"
      ],
      "id": "qUmJWFY9qypV"
    },
    {
      "cell_type": "code",
      "execution_count": null,
      "metadata": {
        "id": "zu1cshEw7hKu"
      },
      "outputs": [],
      "source": [
        "import numpy as np\n",
        "import random\n",
        "import torch\n",
        "import torch.nn as nn  \n",
        "import torch.nn.functional as F\n",
        "from collections import namedtuple, deque\n",
        "import torch.optim as optim\n",
        "import datetime\n",
        "import gym\n",
        "from gym.wrappers import Monitor\n",
        "import glob\n",
        "import io\n",
        "import base64\n",
        "import matplotlib.pyplot as plt\n",
        "from IPython.display import HTML\n",
        "from pyvirtualdisplay import Display\n",
        "from IPython import display as ipythondisplay"
      ],
      "id": "zu1cshEw7hKu"
    },
    {
      "cell_type": "markdown",
      "metadata": {
        "id": "wgxkZn9t5OaU"
      },
      "source": [
        "# **Setting up the environment**"
      ],
      "id": "wgxkZn9t5OaU"
    },
    {
      "cell_type": "markdown",
      "metadata": {
        "id": "HlD6Nivn6I4c"
      },
      "source": [
        "Any new RL algorithm that is developed will need to be benchmarked and compared against state-of-the-art RL algorithms. A variety of benchmarks exist for various types of tasks and various specific domains eg. robot locomotion. \n",
        "\n",
        "While the final aim is to run such algorithms in the real world eg. controlling a quadruped robot to jump over obstacles, for practicality and reduced costs during development, it is more convenient to use benchmarks that allow virtual simulations of these real-world tasks. A few examples of these are MuJoCo (Multi-Joint dynamics with Contact), StarCraft2 and Atari.\n",
        "\n",
        "OpenAI Gym aims to provide an easy-to-setup general-intelligence benchmark with a wide variety of different environments. The goal is to standardize how environments are defined in AI research publications so that published research becomes more easily reproducible. "
      ],
      "id": "HlD6Nivn6I4c"
    },
    {
      "cell_type": "markdown",
      "metadata": {
        "id": "_DtMh6tl5Yni"
      },
      "source": [
        "**Import OpenAI gym**"
      ],
      "id": "_DtMh6tl5Yni"
    },
    {
      "cell_type": "code",
      "execution_count": null,
      "metadata": {
        "id": "213553cd"
      },
      "outputs": [],
      "source": [
        "import gym"
      ],
      "id": "213553cd"
    },
    {
      "cell_type": "markdown",
      "metadata": {
        "id": "kryDSmG77kk4"
      },
      "source": [
        "![rl.png](data:image/png;base64,iVBORw0KGgoAAAANSUhEUgAAAbIAAACvCAYAAACYTFvtAAAABGdBTUEAALGPC/xhBQAAAAFzUkdCAK7OHOkAAAAgY0hSTQAAeiYAAICEAAD6AAAAgOgAAHUwAADqYAAAOpgAABdwnLpRPAAAAAZiS0dEAP8A/wD/oL2nkwAAAAlwSFlzAAAASAAAAEgARslrPgAANrBJREFUeNrt3Xl8Ddf/+PHXzR7ZkMS+RAhCo7aUCiJi91Fq3yuUUktpPx+qPl0VraW1FLWX2L6WWoqINbYQO7VUlqZRCSGxRiLk5vz+8Mt8eptQayZX3s/HI4+He+bMmffMve77zsyZcwxKKYUQeVh0dDSLFi0iLCyM2NhYEhMTyczM1DusfMPFxQU3Nzdq1arF22+/Tfv27bGxsdE7LCE0BklkIq9KS0tj9OjRzJgxQxJXHuLl5cWCBQto0KCB3qEIAUgiE3nUjRs3aNasGUePHtXKvLy8eOONN3B0dNQ7vHwnJiaGAwcOkJaWBoCFhQULFiygT58+eocmhCQykfcopWjevDnbt28HoHLlyvzwww8EBgbqHVq+duPGDcaNG8fUqVMxGo1YWVmxc+dOGjZsqHdoIp+TRCbynMWLF2u/9OvWrUtoaCjOzs56hyX+v5UrV9KzZ0+MRiMVK1bk7NmzWFlZ6R2WyMcs9A5AiL9SSvHNN98A4OzszNq1ayWJ5TFdu3ZlyJAhAERGRrJ69Wq9QxL5nCQykaecP3+e3377DYC+fftSokQJvUMSORgzZgy2trYA/Pzzz3qHI/I5SWQiTzl+/Lj277Zt2+odjngEd3d36tWrB5i+Z0LoQRKZyFMSExO1f1eoUEHvcMRjlCtXDoBr167J4xFCV5LIRJ5y69Yt7d/SgSBvy7q0eOfOHUlkQleSyIQQQpg1SWRCCCHMmiQy8VTOnDnD+fPn5VKSECLPkEQmnkpwcDBVqlShRIkSdOnShVmzZnHu3DlJbEII3cjddPFMEhMTWbVqFatWrQKgaNGiNGzYEH9/fwICAqhcuTIWFvI7SQjx8kkiEy9EYmIiq1ev1kZ5KFKkCA0bNqRRo0Y0atQIb29vSWxCiJfCLBLZlClTSEpK0jsMAezZs+eJ6l29epU1a9awZs0a4OEDtP7+/vj7+9OoUSOqVKkiiU0I8UKYRSKbO3cukZGReochnsO1a9eyJbasS5GBgYF4e3tjMBh0i+/kyZN8//33AHh7e/Pxxx/rfciEEE/ILBKZePVcu3aNtWvXsnbtWkqXLk2XLl0YNWqUbvHMnTuXJUuWAGBvb8/7779vtoMVx8XFYTQaKVu2LJaWlnqHI8RLJ4lM5LoyZcrQsGFDAgICaNCgAV5eXrrG8+DBA+1M0dbWlrS0NNauXUtQUJDeh+qZ+Pr6cu3aNRITEylSpIje4Qjx0pldIvPz8+OXX37Jte0lJSXx4MEDvXc7z5gyZQoLFy58qnXKli1LgwYNaNy4MQ0aNMhzYyiGhIRw7do1ihUrRteuXZk6dSr/93//Z7aJTIj8xuwSmZWVFYUKFcq17eXmtsyBm5vbP9bx8PCgQYMGBAQE0LBhQ8qXL6932I+1bNkyALp06UK3bt2YOnUqO3bsICEh4R+nkbl//z6xsbFYWVnh4eHxxJfyEhMTSUpKwtnZmZIlSz5xx5erV69y/fp1nJycKFGihK73FYXIK6TbmHhuHh4e9O7dm0WLFhETE0NsbCxLliwhKCgozyexW7dusWnTJgB69eqFr68vHh4eGI3Gx86zlZGRweeff07RokWpXLkyFSpUoEyZMixbtozDhw9TpUoVJk2alG29HTt2ULduXYoXL85rr71GmTJl8PLyYt68efx9svbQ0FCqVKnC/Pnz+f333wkMDKRYsWJ4e3tTqlQpatasSUREhFZ/zJgxVKlShevXrwPQoEEDqlSpQnJyst6HWYiXyuzOyIT+PDw8tAefGzZsqE3nYY7Wr19PamoqVapUoWbNmhgMBjp16sSkSZNYsmSJNhPyXyml6Ny5M+vWrcPOzo42bdrg7OzMnj176NWrF926deP8+fMmU9IArFixgt69e5ORkUHt2rWpXLkyCQkJhIWFMWDAACIiIpg3b552lnX79m3Onz/Pr7/+ytixY7G0tGTYsGEYjUY2btzIyZMnad68ORcuXKBo0aI4OTnh5uZGdHQ0RqORwoULY21tLY85iFefMgMVK1ZUgAKUv7+/3uHka3fv3n2p7X/66afae3358uWXvj+NGzdWgPr666+1ssOHDytAGQwGFRMTk22dZcuWKUCVKlVKRUVFaeWpqamqXbt2WvwfffSRtiw+Pl4VKFBAWVpaqpUrV5q0t2fPHuXi4qIAtWbNGq181apVClA2NjaqTZs2Ki0tTVt28+ZNVbp0aQWo2bNnm7Tn7u6uAJWYmPhSj92gQYO0fX3w4MFLfqeEeDQ5IxNPpUCBAnqH8MJcvnyZPXv2YDAY6N69u1Zeu3ZtypUrR2xsLEuXLuWzzz4zWW/q1KkATJs2zaTjir29PXPnziU0NJS0tDSTdaZPn05qaiqDBw+mS5cuJssaNmzI2LFjGTZsGHPnzqVDhw4myzMzM5kxYwZ2dnZamYuLCx06dGDq1KnapUQ97du3T7r6m5Fbt25x9+5d7XXHjh3Nev4/841ciOe0cuVKjEYjDRo0MLk8mnV5ceLEiaxevdokkV2/fp1jx45RsGBB2rRpk61Nd3d3AgMDtftuWbZv3w48vA+Xk86dOzNs2DAOHz6cbVnt2rUpW7ZstnJ7e3u9D6GmcePGeocgnkObNm0kkQlhjoKDgwFwdHTku+++M1l248YN4OG0NcePH6dmzZoAREZGkpmZSaVKlbC2ts6x3UqVKpkkMqWUNjLN5MmTsbGxybaO0WgEHv5SvnXrFi4uLtqyUqVK6X2ohMjTJJGJfOncuXOcPHkSePgcWUhIyCPrrly5UktkWZdjHB0dH1m/aNGiJq/v3r1LSkoKAFu3bn1kl3knJye9D4sQZkkSmciXli9fjlIKHx8fRo8enWOdLVu2sHTpUlasWME333yDhYUFDg4OwP/O2HKSkJBg8trBwQFHR0dSUlKIj48326GvHic4OFjukZmR4ODgx/54MzeSyES+o5Ri6dKlALz77rt069Ytx3rVqlVj6dKlXLp0if3799OwYUO8vLywsLDg3LlzpKSk5HhmdurUKZPXBoOBihUrcvz4cS5cuICvr2+2de7cucOxY8dwcXGhRo0aeh+ip9a1a1ezvseS3xw+fPiVSmTygInId/bv309cXByWlpZ06tTpkfWqVq1K1apVgf+N/uHq6kqtWrW4d+8eixcvzrbOhQsX2LdvX7byVq1aAf/r8fh3U6dOJSAggGnTpul9eIQwO5LIxHO7ffu23iE8lZUrVwLQtGlTihcv/ti6Wb0M161bR3p6OvBwBA2DwcDo0aPZsGGDNiJHVFQUXbt2zfEe2Pvvv0+hQoVYvnw5I0eOJDU1FXjYtT44OJhx48ZhaWnJBx988ML28/79+3ofaiFyhSQy8dyGDh2Kp6cnffr0YfHixcTGxuod0iM9ePBAS2Rdu3b9x/odO3bEYDBw7do1tm3bBkDbtm358MMPuXPnDu3ataNkyZJ4eXnh7e1Neno6I0aMyNZO8eLFWblyJfb29kyaNAl3d3cqVqxIsWLF6N27Nw8ePGDSpEkv5LJiwYIFgYeJ2t/fX4aoEq88uagtXojY2FhiY2O1y23lypUzGTjY09NT7xCBh500Pv30U4BsDx7npHz58syZM4e7d+9qCQJg0qRJvPHGG0yfPp0zZ85gNBrp27cv48aN08ZY/PuAw82aNePYsWNMnDiRHTt2cPXqVezt7Wnfvj3Dhg3D39/fpH716tX5/vvvHznNTevWrSlSpAj16tUzKZ86dSrDhw/n8uXLZne2LMSzkEQmXoqsxJY1WWXWiPhZU7noNZhwkSJFGD58+FOt079/f5PXMTEx3L9/n3bt2tG5c+ds9X///XeAHBOQt7c3ixYteqLtenl5PTZWPz8//Pz8spW3atVKuycnRH6QbxNZbGws06dPx87OTqZqeU5nzpz5xzp//PEHf/zxh/YQctmyZU0m18xrc5Q9Tu/evQkPD2fDhg289dZbJssuX75MaGgo9vb21K9fX+9QhcgX8m0iu3z58iN7kImXLy4ujuDgYIKDg3F0dKRz586MGTNG77CeyMCBAwkPD6d///5cvXqVFi1aYG1tTXh4OGPGjCElJYWRI0fKDyQhckm+TWRZ2rVrx/Lly/UOI0cHDhx47IO3ecUPP/zA3r17n7i+o6Mjb775Jo0aNcLf35/atWtja2ur9248sZ49e3Lx4kW+/PLLbJcdLS0tee+99/jqq6/0DlOIfCPfJzJLS8s8NfjqXzVp0kTvEJ7Ipk2bHpvIshJXQECAlrhyGm/QXBgMBsaMGUPfvn0JCQnh999/x2g0UrFiRQICAvDw8NA7RCHylXyfyMSL5+TkpJ1xNWrUiFq1apl14nqU4sWL07dvX73DECLfk0QmnpuLiwvNmzfXLhW+qolLCJE3SSITz2369Ol6hyCEyMdkZA8hhBBmTRKZEEIIsyaJTAghhFmTRCbylAIFCugdgnhKdnZ2WFjIV4nQj3z6RJ7i5uam/Ts+Pl7vcMRj/PHHHwC4u7tLIhO6kk+fyFOyJrIE2LVrl97hiEe4f/8+ERERAFSsWFHvcEQ+J4lM5Ck1a9bE3d0dgNmzZ5OWlqZ3SCIHP/30E9evXwfgX//6l97hiHxOEpnIU2xtbRkwYADwcIaCFzljsngxfvvtN0aOHAk8fBg+axZtIfQiiUzkOR9//LE2rcu8efPo2bOnWQyenB9s3rwZPz8/bt26BcCECRNwdXXVOyyRz8nIHiLPcXR0ZOPGjfj7+3Pt2jWWLVvGli1baNeuHXXr1sXS0lLvEPOdxMRENm7cqN0XAxg6dCgDBw7UOzQhJJGJvMnb25v9+/fTqVMnTp8+zY0bN1i0aNETz64sXh5ra2s+++wzxowZg8Fg0DscIeTSosi7KlasyPHjx1m4cCFvvPGGdPHWmbu7O4MGDeLUqVP897//lSQm8gw5IxN5mqWlJUFBQQQFBXH79m1iY2N58OCB3mHlO25ubjLPmsizJJEJs+Hs7Mzrr7+udxhCiDxGrtUIIYQwa5LIhBBCmDVJZEIIIcyaJDIhhBBmTRKZEEIIsyaJTAghhFmTRPaK+u233/j999/1DkMIIV46eY7sFdW/f388PDwIDg7WOxQhhHip5IxMCCGEWZNE9oQyMzMxGo3ZyjIyMsjMzHyh23mSNo1GI0op7bVS6oXHIoQQ5kAS2WP83//9Hy1atODQoUN4eHhQr149ADIyMhg5ciTu7u5YW1tTpEgRPv30Uy3R9ezZk8GDB2vtXLt2jerVq5tMQJienk7t2rWZM2cOAAkJCbz11ls4OjpibW2Ng4MDnTt3Jjk5WVunVatWrFixgmHDhmFra8vatWsBWLlyJV5eXlhbW1OoUCEmTJig96ETQohHMhqN2U4MnockssdITk7m6NGj9OjRg7fffpv//ve/AHzwwQfMnDmTTz75hJCQEAYPHsyECRP4z3/+A0CZMmVYunSp9kbt27ePU6dOsXr1atLS0rSyY8eOUbVqVQC6dOnCsWPHmDdvHiEhIYwbN47NmzfzxRdfaPGcO3eOb775hr179zJ58mRq167Ntm3b6N69O5UrV2bDhg3Mnj2buXPncuTIEb0PnxBCAPDgwQOTq0WtW7emc+fOL6x96ezxD5KTk5k4cSJ9+/YF4OLFi/z444/MmTOHd999F4AWLVpgZ2fH559/zmeffUabNm2YMGECx48fx9fXl3379lGvXj3Cw8MJDw8nMDCQsLAw3NzcePPNNwEoWrQo//73v2nbtq3WZlhYGFFRUSbxXL9+ncjISOzt7QF45513qFatGuvXr8fK6uHb6eXlRZ06dfQ+dEIIAUCxYsX497//zejRowGoV68ednZ2L6z9Jzoje/fdd9m9e/dTNXz27Fn69u1LUlJSLh6uF8/CwoKOHTtqr/fs2YNSijfeeIO4uDjtr0aNGjx48ICTJ09Sp04dXF1dCQ0NBR6efXXv3h1vb2/27NkDwK5du2jevLk22/GaNWto27YtaWlpnD9/nrVr13Ly5Mls8fzrX//Skti9e/c4dOgQQUFBWhID8PX1lSk3hBB51meffcbIkSNfWHtPlMh++uknfvvtt6dqOD4+nkWLFnHnzp3cPUIvmIWFBc7OztrrlJQUlFL4+vpSsWJF7a9t27bY2NiQmpqKhYUFTZs2JSwsjJs3b3LixAnq1q1L06ZN2b17N3fv3uXYsWP861//0tpdv349NWvWxMXFhXr16vHtt9/mOJFkoUKFtH+npqZy//59SpYsma1eTmVCCPG01q1bR4sWLahWrRqvv/467777Ln/88YdJncjISHr06EG1atWoU6cOX3/9Nffu3SMpKYmgoCDu3r3LmjVrtNsvU6ZM4YcfftDWz8zMZObMmdSrV49q1arRunXrbCdPw4cPZ8+ePfz000/4+flRrVo1evbsyaVLlx5eWkxOTmbLli3cunWLQoUK0aZNG5ydnbl79y6nT59GKcXvv//O6dOnqVatGvDwC33r1q1cuXIFCwsL6tSpQ61atYCHSez8+fMAnDhxAktLS8qUKQPA3bt32bx5M1evXqVw4cJaBwdzYWNjg4WFBSkpKVhbWz+yXqtWrejfvz/btm3D2dmZGjVqcOnSJebMmcP27dsxGo00bdoUePjwcseOHRkwYADr1q2jbNmyALRv357U1NRHbsPBwQFra2suX76cbVlycrKclQkhnsvatWvp1KkTbdq0oVu3bty6dYsFCxZw6NAhzpw5A0BcXBz16tWjZMmSdOnSheTkZMaNG8f58+eZOXMmFStWxNLSEjc3N8qVKwfA9u3bcXBwYMiQIQC8//77LFiwgD59+uDp6cn27dtp0qQJmzZtomXLlsDDTm0nT54kIyODPn36cOvWLcaPH09MTAwcOXJEubi4KBcXF+Xh4aHs7OxU6dKl1eXLl9WZM2eUh4eHApSrq6tq1aqVUkqpyMhIVbJkSWVnZ6c8PDyUq6urAtTIkSOVUkrNnDlTFS1aVAGqVKlS6ttvv9XWK1u2rLK1tVUeHh7KxsZGlShRQp04cUI9TsWKFRWgAOXv769ehAMHDihAdejQ4ZF1Zs6cqaysrEzKTp48qQAVEhJiUr5s2TJVo0YNdffuXaWUUklJScrS0lLVrFlTtWnTRimlVHJysjIYDMrX11c1aNBAW3fhwoUKUKmpqVpZZmamqlu3rmrevLlWVrZsWTV69GiT7darV0/5+fkpo9GolZ09e1ZZWFionj17vpBjJYR4tQwfPlz7TgVUSkpKjvU++ugj1bRpU5WZmamVzZ8/XwHq5s2bSimlgoKClIeHh0kb06dPVxYWFurq1atKKaUKFy6sxo8fry1v3ry5at++vVLqYV6wsLBQU6ZM0ZYbjUYVGBioqlevrpUVLVpUeXp6mnxPfvnllwpQFl999RUVKlQgPj6e2NhYfv31V5KSkli8eDFVq1YlNjYWS0tLxo4dy+bNmwH49ttvyczMJDo6mtjYWBITE+nfvz/Tpk0jIyOD999/nyVLlgCwd+9e7Vpojx49cHV1JS4ujtjYWGJjYylSpAg9evQwm+efXn/9dVq1akVQUBDBwcFERkayePFiBg4cSK1atShQoAAArq6u+Pr6cvz4cQICAgAoXLgwvr6+HDlyhFatWmltenl5ATB9+nRu3brFuXPn6NOnDxEREdy4cYP79+8/Mp4PP/yQAwcO0KtXL44fP86uXbvo0KEDtra2eh8qIYSZmzx5Mtu2bcNgMABw8+ZNfv31V5M6W7dupWfPnjg4OGhlvXr1IiQkRLuf/zi7du3CYDAwYMAArczCwoK+ffty6tQpk34Wbdu2NWmzWLFiD+snJSXh6OiIjY0NABUqVODEiRP07NnzkRseOnQomzdv1u7DWFpaUqtWLdLT0x+ZkI4fP86RI0eYPHkyRYsWBaBEiRJ89913nDt3LtvByQuKFSumPTv2VytWrKBRo0b069ePSpUq8d5779G9e3e+++47k3pBQUH4+flplxABunfvjp+fH+3atdPK6tevz8cff8xnn31GwYIFqVOnDsWLF2fChAkcPnxY68lYu3Zt7bJjlg4dOjB9+nRCQkKoVasWLVq0oEmTJowYMYKKFSvqfQiFEGbszp07fP3119SvX58iRYrg5ubGypUrteWpqalcvnw523dNwYIFadas2RPdNvrzzz8pWbJktroVKlRAKcWlS5dM2s2J1cCBA+nXrx8VKlSgadOm+Pv707p1awoXLvzIDb/++uvExcWxaNEioqKiiI6O1nroPcq5c+cA2LhxI9u2bdPKb9++DTy8Wfj666/n5nv0j9q3b0/79u2zlTs7O7NixQpu377Nn3/+iaenZ46/PAYMGGDyKwMePoP2wQcfZKs7YcIEPvnkEy5dukS5cuW0rqldunTR3os1a9bkGOfQoUMZMGAAFy9epEiRIri4uOh96IQQr4Bu3bpx9OhRPv/8c+rWrYuXlxebN2+ma9euAFhZWWFtbc3du3dN1lNKkZ6ervUpeBw7O7ts6wNa2ZN007fo3bs3p06dokePHly4cIH+/ftTtmxZNm3a9MiVpk2bRoUKFZg9eza3b9+mfv36DBw48LEbyjpTu3//PqmpqdqflZUVw4YNo0KFCjq8Tc/H2dmZqlWrPtHp85NwcnLC29vb5I3z8PAw6TX5KLa2tnh5eUkSE0K8EGlpaYSGhjJ27FgGDRpEjRo1cHR0JCUlRatjY2NDpUqVCAsLM1n3yJEj2NvbExER8Y/b8fHxITk5mRMnTpiU79q1CwcHBzw9Pf+xDav9+/dToUIFxo8fDzx84LZz58785z//MekeniU9PZ3Ro0fz0Ucf8c0332jlixYteuyGXF1dARg1apTWgxEeXnM9c+YM3t7eufX+CCGE+AdWVlY4ODgQERGhPasaHh7Ol19+CTwcrQMe9jgcOnQoc+fOpU+fPty4cYPRo0dTtmxZateurbWXkZGR43ZatmyJp6cn/fr1Y/Xq1Xh4eLB9+3amTp1Kr169tNtej2PRsmVLvvrqK62gcOHClC9fXgvy71JTU7l37x6VK1fWyh48eMDPP//82A35+/tTsGBBJk6cqA12q5Ri1KhRvP322yYD4AohhNCXtbU133zzDYsXL6ZEiRKUKlWKzp07M2zYMAwGAzVq1ODOnTsMGDCA/v37M3DgQAoWLEjJkiU5ffo0S5cu1R5RKleuHOPHj6dRo0bAwzO5rARlY2PDqlWruH79OhUqVMDFxYWWLVvSoEEDJk2apMVjb2+f7ZEnS0tL7O3tscrqbRgdHU2NGjU4duwYYWFhJh0XbGxsWLNmDfb29vTp04eAgAA++ugjIiMjsba2Zu3atdoIFWPHjuWLL77QgpwyZQodO3akUaNGzJgxg3feeYcjR47g5+fH0aNHCQ8PZ/78+S/s8tzLkJCQoHVGad68Ob/88gvp6ekmI34IIcSrZuDAgbRo0YLDhw/j6upK/fr1sbW15c033+T69es4ODhgYWHB7NmzGTlyJEePHtUGdfhr541t27axc+dO7crcxo0bTbZTq1YtoqKiOHjwIPHx8VStWlV7ZjlLbGxstvj69etHv379sJo0aRJVq1Zl69atHDx4kAoVKrB161aaNGmiVZ41axZLly7l9OnTAPz8889MnDiRiIgI3N3dmTBhAgEBAQwaNEir4+fnx4cffsixY8fw8/MDHo4K7+npyaJFizh69CgVK1bk22+/1cYbzIuUUsTGxvLuu+8SFBREdHQ006dPl0QmhMgXPDw8sg2ukPWd/lflypXTHnj+u8KFC9OpU6fHbsfa2pqGDRs+U4wGZQbX9CpVqkRkZCTw8BLl328sPovw8HD8/Pzo0KHDI3sDZjEajRQuXJghQ4bg7++Pj48PN27coEqVKnofGiGEeGojRoxg6tSp2uuUlBST58DMjYx+/wROnDhBWloaBoOBZs2aAVC8eHG9wxJCCIHMR/ZEQkJCUEppU7kIIYTIO+SM7Als376d5s2b5/g8w7Vr17hy5Qo+Pj56hymEEC/N9evXWbVqFQaDgddee42QkBA++OAD3N3d9Q5Nzsj+yc2bNzl06BDdu3fPtuzgwYM0bNhQu38nhBCvoiNHjvD222/TokUL3nvvPZYuXcrs2bNNppXSU66dkcXFxXH27FmqVKlCZmbmEz2tnRfs3r0bg8FAixYtsi2zt7fXnqcQQohX0dmzZ2nTpg07duzQei8qpWjcuLHJhL56ypUzso0bN9K5c2eqVq3KmjVrzOpeU82aNdm/f3+OY0/GxsbSokULs0nKQgjxNDIzMwkKCqJt27a89tprwMMkduDAAfz9/fUOT5Mr6XTFihU4OTlRtmxZPvroI+7du6f3fj+xsmXLZhtxPktoaChvvfWW3iEKIcRLsXPnTo4cOcLMmTO1smPHjnHmzBmtB3dekCtnZG+++Sa7du1i69atGAwGRowYofd+vxD79u3Dw8PjkcN5CSGEOQsNDcXV1ZVatWoBD8/Gvv76a4oUKWIy0LvRaGTdunW6xZkriWzQoEH4+PjQs2dP4uLizPrBuyzp6ek4Ojpy+/btbON/CSHEq+DKlSvY2dlpE2sGBwfj6OhI/fr1iYmJISoqipiYGNq2bcvy5cuJj4/XJc6XnshSUlKwtrZm5cqVpKSk8Pnnn5ssv379uskMoObC1taWiIgI6tatq3coQgjxUjRv3pyEhATefvtt3nvvPV577TUSExOJiYnh4MGDeHl5UaZMGdLT0xk1apQ2Y3Nue6n3yO7du8cPP/zAxx9/jLe3N+3bt+fkyZPa8ujoaN555x1dT0mFEELkrFevXlSoUIFr164REBCAk5MTU6dOJT09nZo1awJoszjXqlVLO3PLbS81kcXHx7Nw4UIGDRqEs7MzycnJdOnSRVu+YcMGMjIyOHv2LEWKFNHlAAghhHi0vw/qXrVqVZPX4eHh+Pr66pbE4CUnsvv37/Ppp5+yYsUKUlNT6du3L507d9aWW1tb06VLFwICAnQ7AEIIIZ7djh078PPzIyYmhvLly+sSw0tNZN7e3o+d+Xnnzp3abKNCCCHMj5OTE+np6bo+T6vbY9kZGRmcP39eRpEXQggzNmrUKL1D0G+sxQsXLpCZmcmlS5f0PgZCCCHMmG5nZFWrVuXcuXPY2NjofQyEEEKYMV1Hv5ckJoQQ4nnJNC5CCCHMmiQyIYQQZk0SmRBCCLMmiUwIIYRZk0QmhBDCrEkiE0IIYdYkkQkhhDBrksiEEEKYNUlkQgghzJokMiGEEGZNEpkQQgizptugweLVk5aWxsaNGzl48CBxcXFkZmbqHZJ4Rbm7u1O9enXatWtHqVKl9A5H6EwSmXhuSimmT5/O+PHjuXr1qt7hiHxkxIgR9O7dm4kTJ+Lq6qp3OEInksjEc0lNTaVTp05s2bJFKzMYDHh6epKamqp3eOIVVKBAAa5cucLdu3fJyMhg4cKFbNu2jc2bN1OtWjW9wxM6kEQmnplSiq5du2pJzM3NjTFjxtCzZ0/c3Nz0Dk+8wtLT09mxYwdffPEFR48e5dKlSzRp0oQTJ05QsmRJvcMTuUw6e+hk3LhxRERE6B3Gc5k/fz6//PIL8HCi1NOnTzN8+HBJYuKls7W1pXXr1hw8eJCBAwcCcO3aNfr27at3aEIHksh0cuTIEa5cuaJ3GM/swYMHfPnllwA4OzsTEhJC8eLF9Q5L5DNWVlbMmjWL5s2bA7Bt2zb279+vd1gil0kiM2P79u1j2LBhdOnShczMTEaPHk2dOnW4efPmS9/2/v37iY+PB+Djjz+mdOnSeh8OkU8ZDAa+//57DAYDAEuXLtU7JJHLJJGZsQYNGpCamkpmZibTpk3D2dmZ5ORkjEbjS9/2gQMHtH937NhR70Mh8jlvb29ee+01AA4dOqR3OCKXSSIzc6dPn8ZgMFCtWjVGjx5NdHR0rnRDvnTpEgB2dnaUL19e78MgBFWrVgXgzz//1DsUkcskkZmx5ORkjh8/jpOTE4GBgbm67b92rbewkI+R0F/W5zA9PV3vUEQuk28gnXz33Xc0atToudrYvn07RqNR67X1d0qpJ27r9OnTDBs2jJiYGL0PjRBCPBVJZDrx9PTExcXludrYvn071atXp3bt2tmWRUdHM2/ePJOy06dPEx4enmNbPj4+bN++nTJlyuh9aIQQ4qlIIjNjoaGhdOjQQeutleXw4cMEBgYSGRnJjRs3tPJff/31kc+unT59msqVK2Ntba33bgkhxFORkT3MVFRUFJaWlrRr1y7bstq1a2Nvb8+4ceOwtbUlIyMDAKPRSGZmpvbayup/b39oaChNmzbVe7eEEOKpSSLTSWRkJO7u7hQqVOiZ1vfy8iIuLi7HZefPn6d8+fLY2toC0KRJE+7du0dSUhIZGRmsXr0aBwcHdu7cqa0TGhrK3Llz9T4sQgjx1CSR6WTkyJEEBQXRtm3bF952aGioNtIBQFhYGADLli3j6tWrjBgxwqT+7du3SUxMlG70QgizJPfI8rDU1NSn6nmYZffu3bi4uJCQkPBE9Xfs2EH9+vX13l0hhHgmksjyoN9++42hQ4dSokQJ7X7W0+jcuTM+Pj6UKFHCpPzNN9+kWbNmJmWXLl3CaDTSvHlzEhMT9d51IYR4anJpMY948OABGzZs4McffzS5d/UsevXqlWO5p6dntrJSpUrRqVMnvXdfCCGeWb5PZGfOnOGTTz7J1W3+9b5YfHw88+bNY8GCBdqwT3+1bt06LC0t9T5M2Vy8eFHvEIQQApBExoULF5gwYUKubrNMmTJUrlyZGTNmsGfPnsdePuzSpYveh0gIIfK0fJvIKlWqxE8//aTLtuvWrUulSpW4d+8eq1atYtasWRw+fDjHjh2DBw/Ok2MZbt++nd9++03vMIQQIv8mMldXV9555x1dY7Czs6N379707t2b48ePM3PmTFauXGkyIO/333+fJ0fb6N279wtNZBcvXnzi6WcsLS1zdSitzMxM4uLisLCwoGzZsrm2XSHEk8m3iSyvqVmzJgsWLGDSpEksWbKEWbNmERUVpXdYucbX15erV68+Ud3ixYs/8aMFL8KtW7fw9PSkUKFCXL9+Xa9DJIR4BElkeUzhwoUZPnw4H3zwAbt3786THT1epqpVq/7jaCe5Md+aePk++ugjrl27xuTJkylSpIje4eRIKcXvv/9OWFgYYWFhpKWlsWbNGr3DEn8jiUwnU6dOpWHDhtSsWTPH5QaDgcaNG+sdZq6bOHEirVq10jsMEw4ODixZsgQbGxu9Q3mlrFu3jtjYWL744os8k8iUUsTExBAWFsaePXvYs2ePyUSdderU0TtEkQNJZDoJCwujXLlyj0xkIu+wsbF55LN5wrwppYiOjjZJXDk9BiPyNklkwuzt27ePhIQE3nrrLQwGA4sXL+bgwYPcu3ePMmXK0LdvXypXrqzVX7NmDUajkcDAQNzc3LK1l5KSwubNmwFo3749SinWrVuHjY0Nb7/9tlZv165dXLt2jQ4dOnDr1i2mTJnCH3/8wXfffUexYsW0eocOHWLNmjXExcVhb2+Pj48PPXr0yDbyCsDPP/+Mra0trVu3JjExkblz53L+/HkMBgPVqlWjX79+2WLeunUrd+7coVOnTsTFxTF//nyioqKws7OjSZMm9OjRA4PBwMWLF5k/fz7nz5/Hzs6ON954g/79+2NnZ5ctDqUUO3bsYOPGjVy5cgUnJyfq1atH9+7dKVCggEndy5cvs3fvXqpUqYKPjw/h4eGsXLmSq1ev4ujoSNOmTenYsaN2mfz48eNERUVx9+5dADZv3kyRIkVo3bo1jo6OL/WzkpW4du/ezd69ewkLCyM+Pv6J18/MzDTpjGWunmXEoDxNmYGKFSsqQAHK399f73BeiLZt26r169c/dztnz55VISEh6tq1ayouLi7X4u/Vq5cClJ2d3Qtpr0iRIgpQmzdvfup133rrLQWoU6dOqZo1aypAWVhYaJ8Za2trk2PdqFEjBagZM2bk2N7ChQsVoHx9fZVSSl2/fl0BqlChQib1GjRooAAVFxenKlWqpG0vMjJSKaVURkaGGjBggDIYDNqyrL8CBQqopUuXZtt2wYIFlaenpzp27Jhyc3PLti/FixfX2s/i4+OjrK2t1a5du5Sjo2O2dfr27avCwsKUk5NTtmV16tRRGRkZJu2lpKSoli1bZosZUKVLl1bh4eEm9bds2aIANWbMGDV+/HhlYWGhDAaDyX63bdtW287QoUNzbDs6Ovq5PkPdu3dXgHJwcNDKjEajunDhgpozZ47q3r27KlmyZI7bzu9/KSkpz3Xs9SaJTCcvIpGNHTtWde/eXcXFxanevXurDz/8MNfiz4uJrHr16qp27dpq//796s6dOyoyMlK1atVKAapkyZIqMzNTKaXUjz/++NjPUmBgoALUrFmzlFL/nMiaNWumHB0d1eDBg9WMGTPU7du3lVJKffLJJwpQLi4uavbs2SoqKkqdOnVKjRgxQhkMBmVpaan2799v0mbBggVVkSJFVIkSJVS3bt3UhQsX1J07d9T+/fuVl5eXAlTXrl1N1vHx8VEWFhaqYMGC6sMPP1Tx8fHq5s2b6quvvtL+39ja2qoePXqo2NhYdefOHfXjjz8qS0tLBWT7HGYds2rVqqn169er6OhodeDAAdWmTRsFqIIFC6rY2FitflYiq169uipQoICaNm2aSkpKUsnJyTlu58KFC2rnzp2qePHiClBLly5VO3fuVKmpqc/1GcpKZAUKFFALFy5U3bp1UyVKlNA9SZjDnySyXCCJLGdeXl5q1KhRSimlEhIS1Lx583It/peVyKpVq6YCAgIe+zdlyhSTdbMSWeHChVVycrLJsuTkZGVjY6MA9eeff5qUWVpaqoSEBJP6iYmJysrKShUoUEDdvHlTKfXPiczR0VGdO3fOZNnVq1eVnZ2dsrCwUGFhYdn2d9SoUQpQAQEBJuUFCxZUgGrYsKGWeLNs3rxZAcrT09Ok3MfHJ8cEl5mZqSpUqKAA9eabb2Zrr1OnTgpQX331lVa2bds2BSgPDw9t///aXocOHRSgBgwYoJVnJbK/Jv+/6tmzpwLUJ598YlJerlw5BaiYmJgX8hn66xlZSkqK2rFjhxozZoyqX7++srW11T1Z5MW/4OBgdf78eWU0Gl/Ie6AXuUemk7Fjx1K8ePHnaqNOnTrMnj2b9957j3LlytG1a1e9d+u5nT59+h/reHl55Vjer18/ChcubFJWuHBhihYtyp9//qmNnFK4cGGaNWvGpk2b+Pnnnxk8eLBWf/ny5WRkZNC1a1dcXFyeKOb+/fvj7e1tUrZp0ybu3btH8+bN8ff3z7bOJ598wowZM9i7dy9JSUnZ7nv9+9//xmAwmJRlbSMzMzPHOPr27Wvy2mAw4OXlRXR0NP3793+i9oKDgwH4z3/+k23/DQYDX3zxBWvXrtUGuP5rm4ULF6Zfv37Z4qpSpQrAM01J9KwcHBwIDAwkMDAQgLt373Lo0CGtU8fhw4dJT09/6naLFy9Ot27dcm0/XrZ69erlOJi4uZFEphMfH5/nbmP8+PFs3ryZDh06EB4e/lw3yjMyMrhz584zz1j9osydO5eGDRs+tk7BggVzLK9Vq9YTb6dHjx5s2rSJVatWmSSy1atXAxAUFPTEbeWUqLIScqNGjXJcx9nZmerVqxMeHs7p06ezPWrxNPuSpWjRos+07K8OHToEgIeHB5GRkdmW29jYYGFhQWJiIrdv3zZJdj4+Pnn2EYWcEltERIRJYrt3794/tlOmTBmmTJmi9+6Iv5FEZobS09OxsLCgdOnSzJ49m65duzJ//nyGDBmi1YmKinrkmcvfXb58mSFDhhAYGMj777+v676VLFmSSpUqPdO69vb2T1y3devWODk5ceDAAS5fvkzx4sX5448/OHToEJ6eno9MQDn5+1kgwJUrVwAeO6RVuXLlCA8Pz3GUkqfZlxcpK5bWrVv/Y92/JzK9Yn4WDg4ONG7cWPsBkZqaSkREBLt3736qxCbyBklkZujEiRPcvHmTFi1a0LlzZz777DNOnDgBPLx8ExISwpIlS1i8eDG2trbAwy+d7t27s2nTpmztFS9enJSUlGyTbr7KnJyceOutt1i2bBlr165lyJAhrFixgszMTIKCgp57oOas9R/XzTk3L7U9rc8//xxnZ+fH1nnUmbE5KlCgAAEBAQQEBAD/S2xZZ2wRERGS2PIwSWQ6iY+Px8XF5ZkuB168eJFly5bRrFkz7t27x71797TJMZOSkliwYAHu7u7ExsZqz08ppUhLS8uxvbt373L58mXKly+v92HJVT169GDZsmVs3LiRIUOGsGrVKiwtLendu/dzt511JhYTE/PIOlljaealgYhLlChBVFQU3bt3p2LFinqHo5u/J7a0tDQiIiKIi4vTOzSRg7w3P0g+MXjw4GeeCdrNzY1OnToxb948pk6dypIlS2jRogUA7u7u3Llzhw8//JDKlSvzyy+/MHnyZGbMmMHFixeZPHkykydPNhm9YO/evfj5+WXrDPCqa9KkCW5uboSFhbFr1y5OnjxJs2bNXsjI+ln3uDZt2pTjmdelS5c4ceIE1tbWL+R+6Yvi5+cHwJYtW3JcfurUKRo1amRyXzE/sLe3p1GjRrrPmCFyJmdkZuhxYzCmpaVx6dIl7f6Yq6srpUqVIjU1FVtbW0qVKgVgclN+69atNG/eXO/dynXW1tZ07tyZWbNmMWDAAIAXcjYG0LJlS9zc3Dh27Bjz58+nf//+2jKj0cjw4cPJyMigQ4cOeeoSXc+ePfnpp58YP348bdq0MTlLf/DgAcOGDWPv3r358vMi8i5JZGbEaDT+42j4Bw8epE6dOiQlJeHu7k69evWoV68et27dYtmyZTl20d+1axdjx47Ve/cA6NChwxON+D99+vRs3c2fRdeuXZk1axYxMTG4urqaDEH1PAoUKMCUKVPo06cPgwYN4uDBgzRu3Ji0tDSCg4PZt28fBQsWZOLEiS/9mD6NwMBAevfuzZIlS6hZsyZDhgyhSpUq3Lp1i3nz5nHy5EkqVKjwQs/I1q9fT/Xq1alTpw4ODg56HwJhhiSRmYH4+HjmzJnDunXr+PXXXx9b9/Dhw6SlpWV7RsZgMGT7krhz5w4hISFkZGSQkJDwjzf3XyZnZ+eneq7nr50xChQogIuLC1ZWOX+cnZyccHFxyfHSab169ahatSqXLl2ib9++WueYvx87FxeXbMfHwcEBFxeXRybe3r17k5aWxqhRo1i0aBGLFi3SllWqVInly5dne4bH2dkZpVSOsVpYWODi4oKTk1OO+5dTHFkx5jQ5q52dHS4uLtnGWpw/fz4ODg7MnTuX8ePHmyxr0KABS5YsMTkW1tbWuLi4PDIJ2dra5ridxo0bs2DBAj766CMAoqOj8919WvFiGFRe7jr1/1WqVEl7psXf35+wsDC9Q3pu7dq1IygoiLZt2+a4XCnFrl27mD17Nhs2bCAjIwNXV1eSkpIe267RaEQp9cgv9Reld+/eBAcHY2dn98hOJOKhW7duERoaSkJCAgaDAR8fHxo2bPjS36PnFRcXx+7du7l58yZ2dnbUqVOH6tWrv7B7qRkZGfz8888kJCRgb29Pjx49nutZyB49erB8+XIcHBxISUnR+/CJXJS3/yfl4ObNm8/cSSKvcHJyonTp0tl+WcPDL72ffvqJOXPmcP78eZNlSilu3rypd/hm9bxQXuDi4kLnzp31DuOplS1blj59+ry09q2srMzyuIi8x+wS2alTp2jSpIneYTyXGjVqcPz4cZOy48ePM2fOHJYtW6ZNb/F3169f133kDYBvv/1W7xCEEEJjdonsVRMREcHw4cOJiIjI0w/ICiFEXiXPkenM19eXb775ho4dO+b5eyZCCJEXmcU357Rp016pm7d/fW7IwsICf39//P39SUhIYO7cucyfPz/HWWvt7e354IMP9A6fOnXqcObMGb3DEEIIwEx6Lb6KJk6cSEBAAL6+vtmWPXjwgA0bNjB79mx27dqllT9Jr8XcIr0WRV4jvRbzL7m0qJNHjXoOD5/L6dixIzt37uTcuXMMGTJE12e8hBAiL5NElsd5e3szY8YMLl26xLRp0/QORwgh8hxJZGbCycmJHj166B2GEELkOZLIhBBCmDVJZEIIIcyaWXS/fxV9/PHHeWpCRSGEMFeSyHRSt25dvUMQQohXglxaFM/kr9OoCCGEnuTbSDyTrJmm09PTuXr1qt7hCKGNhlOmTBm9QxG5TBKZTm7evPlUE0nmNdWqVQMeTi0TGhqqdzgin0tOTubw4cPA/z6bIv+QRKaTPn36sHXrVr3DeGbNmjXTZgT+9ttvuX//vt4hiXxs0qRJ2lBpj5qsVry6JJGJZ1KwYEH69esHwNmzZxk0aBCZmZl6hyXyofXr1zN58mQAypcvT/v27fUOSeQySWTimY0dOxYvLy8AFi5cSMuWLYmKitI7LJFPpKSk8N///pdOnTphNBqxtrZm7ty52Nra6h2ayGXS/V48M2dnZzZs2EDTpk2Jj49n27ZtVKpUibp168p9CvFSJSUlsXXrVm02dSsrK6ZNm0bjxo31Dk3oQBKZeC7e3t5EREQwYMAAtmzZglKKgwcPcvDgQb1DE/lEmTJlWLhwIYGBgXqHInQi85Hp5MiRI5QuXZpixYrpHcoLs3v3boKDg9m7dy9xcXFkZGToHZJ4RRUtWpTatWvTsWNHunbtip2dnd4hCR39PyZTZ25ZGUynAAAAJXRFWHRkYXRlOmNyZWF0ZQAyMDE2LTA4LTExVDE1OjE1OjU5KzAwOjAwUhhPTgAAACV0RVh0ZGF0ZTptb2RpZnkAMjAxNi0wOC0xMVQxNToxNTo1OSswMDowMCNF9/IAAAAASUVORK5CYII=)\n",
        "\n"
      ],
      "id": "kryDSmG77kk4"
    },
    {
      "cell_type": "markdown",
      "metadata": {
        "id": "mwpIjXIZAOhL"
      },
      "source": [
        "Consider an RL agent that interacts with its environment in discrete timesteps. For every discrete time step, the agent perceives the state **s<sub>t</sub>** of its environment and chooses an action **a<sub>t</sub>** according to its **policy**. The agent then receives a reward **r<sub>t+1</sub>** for its action and the environment transitioned into the next state **s<sub>t+1</sub>**. We now show how to set up such an environment using OpenAI gym\n",
        "\n",
        "Some helpful terminology:\n",
        "* **Episode** - A collection of steps that terminates when the agent fails to achieve the goal, or the episode reaches the maximum number of allowed steps.\n",
        "* **Render** - Gym can render one frame for display after each episode.\n",
        "* **Nondeterministic** - For some environments, randomness is a factor in deciding what effects actions have on reward and changes to the observation space."
      ],
      "id": "mwpIjXIZAOhL"
    },
    {
      "cell_type": "code",
      "execution_count": null,
      "metadata": {
        "id": "QLtauTHkBhYb"
      },
      "outputs": [],
      "source": [
        "env = gym.make('CartPole-v1')"
      ],
      "id": "QLtauTHkBhYb"
    },
    {
      "cell_type": "markdown",
      "metadata": {
        "id": "-o4AVRvGBiod"
      },
      "source": [
        "We just created an instance of the CartPole-v1 environment. \n",
        "\n",
        "A pole is attached by an un-actuated joint to a cart, which moves along a frictionless track. The system is controlled by applying a force of +1 or -1 to the cart. The pendulum starts upright, and the goal is to prevent it from falling over. A reward of +1 is provided for every timestep that the pole remains upright. The episode ends when the pole is more than 15 degrees from vertical, or the cart moves more than 2.4 units from the center.\n",
        "\n",
        "\n",
        "Now let's take a deeper look at some of the environment specifics:\n",
        "* **action space**: What actions can we take on the environment, at each step/episode, to alter the environment.\n",
        "* **observation space**: What is the current state of the portion of the environment that we can observe.\n"
      ],
      "id": "-o4AVRvGBiod"
    },
    {
      "cell_type": "code",
      "execution_count": null,
      "metadata": {
        "id": "_u_3pJGqCb9e"
      },
      "outputs": [],
      "source": [
        "def query_environment(env, name):\n",
        "  spec = gym.spec(name)\n",
        "  print(f\"Action Space: {env.action_space}\")\n",
        "  print(f\"Observation Space: {env.observation_space}\")\n",
        "  print(f\"Max Episode Steps: {spec.max_episode_steps}\")\n",
        "  print(f\"Nondeterministic: {spec.nondeterministic}\")\n",
        "  print(f\"Reward Range: {env.reward_range}\")"
      ],
      "id": "_u_3pJGqCb9e"
    },
    {
      "cell_type": "code",
      "execution_count": null,
      "metadata": {
        "id": "RmT3G-SIChK3",
        "colab": {
          "base_uri": "https://localhost:8080/"
        },
        "outputId": "a2e73374-3fe0-4990-981f-2525fed651c6"
      },
      "outputs": [
        {
          "output_type": "stream",
          "name": "stdout",
          "text": [
            "Action Space: Discrete(2)\n",
            "Observation Space: Box(-3.4028234663852886e+38, 3.4028234663852886e+38, (4,), float32)\n",
            "Max Episode Steps: 500\n",
            "Nondeterministic: False\n",
            "Reward Range: (-inf, inf)\n"
          ]
        }
      ],
      "source": [
        "query_environment(env, 'CartPole-v1')"
      ],
      "id": "RmT3G-SIChK3"
    },
    {
      "cell_type": "markdown",
      "metadata": {
        "id": "9I8uiHsAESy7"
      },
      "source": [
        " The environment has an observation space of 4 continuous numbers:\n",
        "\n",
        "* Cart Position\n",
        "* Cart Velocity\n",
        "* Pole Angle\n",
        "* Pole Velocity At Tip\n",
        "\n",
        "To achieve this goal, the agent can take the following actions:\n",
        "\n",
        "* Push cart to the left\n",
        "* Push cart to the right\n"
      ],
      "id": "9I8uiHsAESy7"
    },
    {
      "cell_type": "markdown",
      "metadata": {
        "id": "YzCMPGXmFmvy"
      },
      "source": [
        "# **Interacting with the environment**"
      ],
      "id": "YzCMPGXmFmvy"
    },
    {
      "cell_type": "markdown",
      "metadata": {
        "id": "hL77-vqgFrQx"
      },
      "source": [
        "To make things clearer, let us now see how the agent can interact with the environment:"
      ],
      "id": "hL77-vqgFrQx"
    },
    {
      "cell_type": "markdown",
      "metadata": {
        "id": "a1TzPnj3Eu1i"
      },
      "source": [
        "**Getting the observation**\n",
        "\n",
        "(Every episode of training starts with env.reset(), to reset the simulation to the starting state or states)"
      ],
      "id": "a1TzPnj3Eu1i"
    },
    {
      "cell_type": "code",
      "execution_count": null,
      "metadata": {
        "id": "if-9-u39Eu9v",
        "colab": {
          "base_uri": "https://localhost:8080/"
        },
        "outputId": "57a63e60-5898-4cfc-899b-02c7fc8be360"
      },
      "outputs": [
        {
          "output_type": "stream",
          "name": "stdout",
          "text": [
            "Observation: [-0.00699869 -0.02121497 -0.04414199  0.00125995]\n"
          ]
        }
      ],
      "source": [
        "observation = env.reset()\n",
        "print(\"Observation:\", observation)"
      ],
      "id": "if-9-u39Eu9v"
    },
    {
      "cell_type": "markdown",
      "metadata": {
        "id": "GqCkMVE-E2a5"
      },
      "source": [
        "**Choosing an action**"
      ],
      "id": "GqCkMVE-E2a5"
    },
    {
      "cell_type": "code",
      "execution_count": null,
      "metadata": {
        "id": "xE5sKXohE3iV",
        "colab": {
          "base_uri": "https://localhost:8080/"
        },
        "outputId": "fd27841b-8a80-4ca7-c269-5e7be15ce69b"
      },
      "outputs": [
        {
          "output_type": "stream",
          "name": "stdout",
          "text": [
            "Action chosen: 1\n"
          ]
        }
      ],
      "source": [
        "action = env.action_space.sample()\n",
        "print(\"Action chosen:\",action)"
      ],
      "id": "xE5sKXohE3iV"
    },
    {
      "cell_type": "markdown",
      "metadata": {
        "id": "Qi_dW1M7E3re"
      },
      "source": [
        "**Performing an environment step**"
      ],
      "id": "Qi_dW1M7E3re"
    },
    {
      "cell_type": "code",
      "execution_count": null,
      "metadata": {
        "id": "K9iI68gyE69y",
        "colab": {
          "base_uri": "https://localhost:8080/"
        },
        "outputId": "904bb8cd-c374-4b94-a2e3-fba54b70f55a"
      },
      "outputs": [
        {
          "output_type": "stream",
          "name": "stdout",
          "text": [
            "Next observation [-0.00742299  0.17451133 -0.04411679 -0.30501705]\n",
            "Reward obtained 1.0\n",
            "Does the state-action pair lead to a terminal state? False\n"
          ]
        }
      ],
      "source": [
        "next_observation, reward, done, _ = env.step(action) \n",
        "print(\"Next observation\", next_observation)\n",
        "print(\"Reward obtained\", reward)\n",
        "print(\"Does the state-action pair lead to a terminal state?\", done)"
      ],
      "id": "K9iI68gyE69y"
    },
    {
      "cell_type": "markdown",
      "metadata": {
        "id": "M4_e4XUrGyGj"
      },
      "source": [
        "**A few functions for rendering an episode on Google Colab and plotting rewards**"
      ],
      "id": "M4_e4XUrGyGj"
    },
    {
      "cell_type": "code",
      "execution_count": null,
      "metadata": {
        "id": "1P-g1WjUG1XN"
      },
      "outputs": [],
      "source": [
        "\n",
        "display = Display(visible=0, size=(1400, 900))\n",
        "display.start()\n",
        "\n",
        "\"\"\"\n",
        "Utility functions to enable video recording of gym environment \n",
        "and displaying it.\n",
        "To enable video, just do \"env = wrap_env(env)\"\"\n",
        "\"\"\"\n",
        "\n",
        "def show_video():\n",
        "  mp4list = glob.glob('video/*.mp4')\n",
        "  if len(mp4list) > 0:\n",
        "    mp4 = mp4list[0]\n",
        "    video = io.open(mp4, 'r+b').read()\n",
        "    encoded = base64.b64encode(video)\n",
        "    ipythondisplay.display(HTML(data='''<video alt=\"test\" autoplay \n",
        "                loop controls style=\"height: 400px;\">\n",
        "                <source src=\"data:video/mp4;base64,{0}\" type=\"video/mp4\" />\n",
        "             </video>'''.format(encoded.decode('ascii'))))\n",
        "  else: \n",
        "    print(\"Could not find video\")\n",
        "    \n",
        "\n",
        "def wrap_env(env):\n",
        "  env = Monitor(env, './video', force=True)\n",
        "  return env\n",
        "\n",
        "def plot_rewards(rewards, q, title):\n",
        "\n",
        "    avg_rew = []\n",
        "    j = 0\n",
        "    \n",
        "    while(j < len(rewards) - q):\n",
        "      \n",
        "      x = rewards[j:j+q]\n",
        "      sum1 = np.sum(np.array(x)) /q\n",
        "      avg_rew.append(sum1)\n",
        "      j = j+1\n",
        "\n",
        "\n",
        "    plt.suptitle(title)\n",
        "    plt.plot(avg_rew)\n",
        "    plt.xlabel('Episode')\n",
        "    plt.ylabel('Reward')\n",
        "\n",
        "    plt.show()  "
      ],
      "id": "1P-g1WjUG1XN"
    },
    {
      "cell_type": "markdown",
      "metadata": {
        "id": "FMzWrnx-E7q6"
      },
      "source": [
        "**Task 1: Putting it all together - Episodes with a random agent**\n",
        "\n"
      ],
      "id": "FMzWrnx-E7q6"
    },
    {
      "cell_type": "markdown",
      "metadata": {
        "id": "lxMzQlghx4mY"
      },
      "source": [
        "**Part 1**: Your task will be to run an episode of simulation with an agent following a random policy. After every 10 steps of the episode, **you are to print the step reward r as well as the cumulative reward from the beginning of the episode**. Complete the code and run the function to render the episode. The function returns the cumulative reward."
      ],
      "id": "lxMzQlghx4mY"
    },
    {
      "cell_type": "code",
      "execution_count": null,
      "metadata": {
        "id": "9Gu80n-rE-8C"
      },
      "outputs": [],
      "source": [
        "def simulate_episode(env, wrap = False, render = False, video = False, log = False): #if log==True, print the step reward and cumulative reward\n",
        "    \n",
        "    if(wrap):\n",
        "      env = wrap_env(env) #This is purely for rendering\n",
        "    \n",
        "    observation = env.reset()  #initial observation\n",
        "    cumulative_reward = 0\n",
        "    max_steps = gym.spec('CartPole-v1').max_episode_steps\n",
        "\n",
        "    steps=0\n",
        "\n",
        "    while True:\n",
        "\n",
        "        #Rendering function  \n",
        "        if(render):\n",
        "          env.render()\n",
        "        \n",
        "        #take an action, take a step and continue the episode if the next state is not terminal. Print required data every 10 steps\n",
        "\n",
        "        action = env.action_space.sample()\n",
        "        next_observation, reward, done, _ = env.step(action)\n",
        "\n",
        "        cumulative_reward += reward\n",
        "        steps +=1\n",
        "        if(steps%10==0 and log==True):\n",
        "          print(\"Reward\",reward)\n",
        "          print(\"Cumulative Reward\",cumulative_reward)\n",
        "\n",
        "        if(done or steps>500):\n",
        "          break\n",
        "        \n",
        "                \n",
        "    env.close()\n",
        "    if(video):\n",
        "      show_video()\n",
        "    return cumulative_reward  "
      ],
      "id": "9Gu80n-rE-8C"
    },
    {
      "cell_type": "code",
      "execution_count": null,
      "metadata": {
        "id": "NuW7-rLubiH-",
        "colab": {
          "base_uri": "https://localhost:8080/",
          "height": 512
        },
        "outputId": "2f2c9bff-da52-4e43-964b-7bd12c04bd60"
      },
      "outputs": [
        {
          "output_type": "stream",
          "name": "stdout",
          "text": [
            "Reward 1.0\n",
            "Cumulative Reward 10.0\n",
            "Reward 1.0\n",
            "Cumulative Reward 20.0\n"
          ]
        },
        {
          "output_type": "display_data",
          "data": {
            "text/html": [
              "<video alt=\"test\" autoplay \n",
              "                loop controls style=\"height: 400px;\">\n",
              "                <source src=\"data:video/mp4;base64,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\" type=\"video/mp4\" />\n",
              "             </video>"
            ],
            "text/plain": [
              "<IPython.core.display.HTML object>"
            ]
          },
          "metadata": {}
        },
        {
          "output_type": "stream",
          "name": "stdout",
          "text": [
            "Cumulative reward on episode termination 20.0\n"
          ]
        }
      ],
      "source": [
        "total_rew = simulate_episode(env, wrap = True, render = True, video = True, log = True)\n",
        "print(\"Cumulative reward on episode termination\", total_rew)"
      ],
      "id": "NuW7-rLubiH-"
    },
    {
      "cell_type": "markdown",
      "metadata": {
        "id": "kIm6SfOxIpvq"
      },
      "source": [
        "**Part 2**: Using the function you just wrote, run a loop to simulate 1000 episodes of training and plot the cumulative reward vs episodes graph"
      ],
      "id": "kIm6SfOxIpvq"
    },
    {
      "cell_type": "code",
      "execution_count": null,
      "metadata": {
        "id": "HW4Csz73IvIb"
      },
      "outputs": [],
      "source": [
        "rewards = []\n",
        "ep = 0\n",
        "while(ep<1000):\n",
        "   rewards.append(simulate_episode(env, wrap = False, render = False, video = False, log = False))\n",
        "   ep+=1\n",
        "env.close()"
      ],
      "id": "HW4Csz73IvIb"
    },
    {
      "cell_type": "code",
      "execution_count": null,
      "metadata": {
        "id": "IoFS6sSGLLMP",
        "colab": {
          "base_uri": "https://localhost:8080/",
          "height": 370
        },
        "outputId": "2d399898-9469-4169-d6b0-d62716567a5a"
      },
      "outputs": [
        {
          "output_type": "display_data",
          "data": {
            "image/png": "[encoded data removed]",
            "text/plain": [
              "<Figure size 720x360 with 1 Axes>"
            ]
          },
          "metadata": {
            "needs_background": "light"
          }
        }
      ],
      "source": [
        "plt.figure(figsize=(10, 5))\n",
        "plot_rewards(rewards, 1, \"Random Agent\")"
      ],
      "id": "IoFS6sSGLLMP"
    },
    {
      "cell_type": "markdown",
      "metadata": {
        "id": "CmTfec97NO5l"
      },
      "source": [
        "# **Deep RL Agent**"
      ],
      "id": "CmTfec97NO5l"
    },
    {
      "cell_type": "markdown",
      "metadata": {
        "id": "Of5IWSAoHOiQ"
      },
      "source": [
        "Now that we know how to import an environment and use it, let us see how a deep RL agent trained on this task performs.\n",
        "\n",
        "Specifically, we use a Deep Q Network (DQN) to train our CartPole agent to navigate towards its goal. Broadly speaking, every RL algorithm performs an agent in two stages performed repeatedly till the task is performed optimally:\n",
        "\n",
        "\n",
        "\n",
        "1.   Collect episodes of data by interacting with the environment.\n",
        "2.   Learn to perform the task better, using the collected data.\n",
        "\n",
        "\n",
        "\n",
        "We do not get into further specifics of training the agent yet. This will covered in detail in future tutorials\n"
      ],
      "id": "Of5IWSAoHOiQ"
    },
    {
      "cell_type": "markdown",
      "metadata": {
        "id": "LZQeH0ZcDG-6"
      },
      "source": [
        "**How well does the DQN agent perform on the same task?**"
      ],
      "id": "LZQeH0ZcDG-6"
    },
    {
      "cell_type": "code",
      "execution_count": null,
      "metadata": {
        "id": "S4_QoylQOoUG"
      },
      "outputs": [],
      "source": [
        "BUFFER_SIZE = int(1e6)  # replay buffer size\n",
        "BATCH_SIZE = 64         # minibatch size\n",
        "GAMMA = 0.99            # discount factor\n",
        "LR = 5e-4             # learning rate \n",
        "UPDATE_EVERY = 10        # how often to update the network (When Q target is present)\n",
        "device = torch.device(\"cuda:0\" if torch.cuda.is_available() else \"cpu\")"
      ],
      "id": "S4_QoylQOoUG"
    },
    {
      "cell_type": "code",
      "execution_count": null,
      "metadata": {
        "id": "BKRAM4xjS7X5"
      },
      "outputs": [],
      "source": [
        "### Q NETWORK ARCHITECTURE\n",
        "'''\n",
        "QNetwork:\n",
        "Input Layer - 4 nodes (State Shape) \\\n",
        "Hidden Layer 1 - 64 nodes \\\n",
        "Hidden Layer 2 - 64 nodes \\\n",
        "Output Layer - 2 nodes (Action Space) \\\n",
        "Optimizer - zero_grad()\n",
        "'''\n",
        "class QNetwork(nn.Module):\n",
        "    \"\"\"Actor (Policy) Model.\"\"\"\n",
        "\n",
        "    def __init__(self, state_size, action_size, seed, fc1_units=64, fc2_units=64):\n",
        "        \"\"\"Initialize parameters and build model.\n",
        "        Params\n",
        "        ======\n",
        "            state_size (int): Dimension of each state\n",
        "            action_size (int): Dimension of each action\n",
        "            seed (int): Random seed\n",
        "            fc1_units (int): Number of nodes in first hidden layer\n",
        "            fc2_units (int): Number of nodes in second hidden layer\n",
        "        \"\"\"\n",
        "        super(QNetwork, self).__init__()\n",
        "        self.seed = torch.manual_seed(seed)\n",
        "        self.fc1 = nn.Linear(state_size, fc1_units)\n",
        "        self.fc2 = nn.Linear(fc1_units, fc2_units)\n",
        "        self.fc3 = nn.Linear(fc2_units, action_size)\n",
        "\n",
        "    def forward(self, state):\n",
        "        \"\"\"Build a network that maps state -> action values.\"\"\"\n",
        "        x = F.relu(self.fc1(state))\n",
        "        x = F.relu(self.fc2(x))\n",
        "        return self.fc3(x)"
      ],
      "id": "BKRAM4xjS7X5"
    },
    {
      "cell_type": "code",
      "execution_count": null,
      "metadata": {
        "id": "zSeYYo6OS79L"
      },
      "outputs": [],
      "source": [
        "class Agent():\n",
        "    \"\"\"\n",
        "    CASE 1 -\n",
        "    +Q => Q-Targets\n",
        "    +E => Experience Replay\n",
        "    +T => Truncation\n",
        "    \"\"\"\n",
        "\n",
        "    def __init__(self, state_size, action_size, seed):\n",
        "\n",
        "        # Agent Environment Interaction\n",
        "        self.state_size = state_size\n",
        "        self.action_size = action_size\n",
        "        self.seed = random.seed(seed)\n",
        "\n",
        "        # Q-Network\n",
        "        self.qnetwork_local = QNetwork(state_size, action_size, seed).to(device)\n",
        "        self.qnetwork_target = QNetwork(state_size, action_size, seed).to(device)\n",
        "        self.optimizer = optim.Adam(self.qnetwork_local.parameters(), lr=LR)\n",
        "\n",
        "        # Replay memory\n",
        "        self.memory = ReplayBuffer(action_size, BUFFER_SIZE, BATCH_SIZE, seed)\n",
        "\n",
        "        # Initialize time step (for updating every UPDATE_EVERY steps)           -Needed for Q Targets\n",
        "        self.t_step = 0\n",
        "    \n",
        "    def step(self, state, action, reward, next_state, done):\n",
        "\n",
        "        # Save experience in replay memory\n",
        "        self.memory.add(state, action, reward, next_state, done)\n",
        "        \n",
        "        # If enough samples are available in memory, get random subset and learn\n",
        "        if len(self.memory) >= BATCH_SIZE:\n",
        "            experiences = self.memory.sample()\n",
        "            self.learn(experiences, GAMMA)\n",
        "\n",
        "        \"\"\" +Q TARGETS PRESENT \"\"\"\n",
        "        # Updating the Network every 'UPDATE_EVERY' steps taken       \n",
        "        self.t_step = (self.t_step + 1) % UPDATE_EVERY\n",
        "        if self.t_step == 0:\n",
        "\n",
        "            self.qnetwork_target.load_state_dict(self.qnetwork_local.state_dict())\n",
        "\n",
        "    def act(self, state, eps=0.):\n",
        "\n",
        "        state = torch.from_numpy(state).float().unsqueeze(0).to(device)\n",
        "        self.qnetwork_local.eval()\n",
        "        with torch.no_grad():\n",
        "            action_values = self.qnetwork_local(state)\n",
        "        self.qnetwork_local.train()\n",
        "\n",
        "        # Epsilon-greedy action selection\n",
        "        if random.random() > eps:\n",
        "            return np.argmax(action_values.cpu().data.numpy())\n",
        "        else:\n",
        "            return random.choice(np.arange(self.action_size))\n",
        "\n",
        "\n",
        "    def learn(self, experiences, gamma):\n",
        "        \"\"\" +E EXPERIENCE REPLAY PRESENT \"\"\"\n",
        "        states, actions, rewards, next_states, dones = experiences\n",
        "\n",
        "        # Get max predicted Q values (for next states) from target model\n",
        "        Q_targets_next = self.qnetwork_target(next_states).detach().max(1)[0].unsqueeze(1)\n",
        "        # Compute Q targets for current states \n",
        "        Q_targets = rewards + (gamma * Q_targets_next * (1 - dones))\n",
        "\n",
        "        # Get expected Q values from local model\n",
        "        Q_expected = self.qnetwork_local(states).gather(1, actions)\n",
        "\n",
        "        # Compute loss\n",
        "        \n",
        "\n",
        "        # Minimize the loss\n",
        "        self.optimizer.zero_grad()\n",
        "        loss = F.mse_loss(Q_expected, Q_targets)\n",
        "        loss.backward()\n",
        "        \n",
        "        #Gradient Clipping\n",
        "        \"\"\" +T TRUNCATION PRESENT \"\"\"\n",
        "        # for param in self.qnetwork_local.parameters():\n",
        "        #     param.grad.data.clamp_(-1, 1)\n",
        "            \n",
        "        self.optimizer.step()"
      ],
      "id": "zSeYYo6OS79L"
    },
    {
      "cell_type": "code",
      "execution_count": null,
      "metadata": {
        "id": "4Ux80vI_S-pd"
      },
      "outputs": [],
      "source": [
        "# REPLAY BUFFER\n",
        "\n",
        "class ReplayBuffer:\n",
        "    \"\"\"Fixed-size buffer to store experience tuples.\"\"\"\n",
        "\n",
        "    def __init__(self, action_size, buffer_size, batch_size, seed):\n",
        "        \"\"\"Initialize a ReplayBuffer object.\n",
        "\n",
        "        Params\n",
        "        ======\n",
        "            action_size (int): dimension of each action\n",
        "            buffer_size (int): maximum size of buffer\n",
        "            batch_size (int): size of each training batch\n",
        "            seed (int): random seed\n",
        "        \"\"\"\n",
        "        self.action_size = action_size\n",
        "        self.memory = deque(maxlen=buffer_size)  \n",
        "        self.batch_size = batch_size\n",
        "        self.experience = namedtuple(\"Experience\", field_names=[\"state\", \"action\", \"reward\", \"next_state\", \"done\"])\n",
        "        self.seed = random.seed(seed)\n",
        "    \n",
        "    def add(self, state, action, reward, next_state, done):\n",
        "        \"\"\"Add a new experience to memory.\"\"\"\n",
        "        e = self.experience(state, action, reward, next_state, done)\n",
        "        self.memory.append(e)\n",
        "    \n",
        "    def sample(self):\n",
        "        \"\"\"Randomly sample a batch of experiences from memory.\"\"\"\n",
        "        experiences = random.sample(self.memory, k=self.batch_size)\n",
        "\n",
        "        states = torch.from_numpy(np.vstack([e.state for e in experiences if e is not None])).float().to(device)\n",
        "        actions = torch.from_numpy(np.vstack([e.action for e in experiences if e is not None])).long().to(device)\n",
        "        rewards = torch.from_numpy(np.vstack([e.reward for e in experiences if e is not None])).float().to(device)\n",
        "        next_states = torch.from_numpy(np.vstack([e.next_state for e in experiences if e is not None])).float().to(device)\n",
        "        dones = torch.from_numpy(np.vstack([e.done for e in experiences if e is not None]).astype(np.uint8)).float().to(device)\n",
        "  \n",
        "        return (states, actions, rewards, next_states, dones)\n",
        "\n",
        "    def __len__(self):\n",
        "        \"\"\"Return the current size of internal memory.\"\"\"\n",
        "        return len(self.memory)"
      ],
      "id": "4Ux80vI_S-pd"
    },
    {
      "cell_type": "code",
      "execution_count": null,
      "metadata": {
        "id": "5CXkVBiUTANW"
      },
      "outputs": [],
      "source": [
        "def train(n_episodes=200, max_t=1000, eps_start=1.0, eps_end=0.05, eps_decay=0.995):\n",
        "\n",
        "    scores = []                 # list containing scores from each episode\n",
        "    rewards = []\n",
        "    scores_window_printing = deque(maxlen=10) # For printing in the graph\n",
        "    scores_window= deque(maxlen=100)  # last 100 scores for checking if the avg is more than 195\n",
        "    eps = eps_start                    # initialize epsilon\n",
        "    for i_episode in range(1, n_episodes+1):\n",
        "        state = env.reset()\n",
        "        score = 0\n",
        "        for t in range(max_t):\n",
        "            action = agent.act(state, eps)\n",
        "            next_state, reward, done, _ = env.step(action)\n",
        "            agent.step(state, action, reward, next_state, done)\n",
        "            state = next_state\n",
        "            score += reward\n",
        "            if done:\n",
        "                break \n",
        "        rewards.append(score) \n",
        "        if(len(rewards)%500==0):\n",
        "                 plt.figure(figsize=(10, 5))\n",
        "                 plot_rewards(rewards, 1, \"DQN\")\n",
        "        scores_window.append(score)       # save most recent score\n",
        "        scores_window_printing.append(score)              # save most recent score\n",
        "        eps = max(eps_end, eps_decay*eps) # decrease epsilon\n",
        "        print('\\rEpisode {}\\tAverage Score: {:.2f}'.format(i_episode, np.mean(scores_window)), end=\"\")  \n",
        "        if i_episode % 10 == 0: \n",
        "            scores.append(np.mean(scores_window_printing))        \n",
        "        if i_episode % 100 == 0: \n",
        "           print('\\rEpisode {}\\tAverage Score: {:.2f}'.format(i_episode, np.mean(scores_window)))\n",
        "        # if np.mean(scores_window)>=195.0:\n",
        "        #   print('\\nEnvironment solved in {:d} episodes!\\tAverage Score: {:.2f}'.format(i_episode-100, np.mean(scores_window)))\n",
        "        #   break\n",
        "    return rewards, [np.array(scores),i_episode-100]"
      ],
      "id": "5CXkVBiUTANW"
    },
    {
      "cell_type": "markdown",
      "metadata": {
        "id": "XeuW0gNHfRjK"
      },
      "source": [
        "**Training the DQN agent**"
      ],
      "id": "XeuW0gNHfRjK"
    },
    {
      "cell_type": "code",
      "execution_count": null,
      "metadata": {
        "id": "7sZGkmOtTDot",
        "colab": {
          "base_uri": "https://localhost:8080/"
        },
        "outputId": "cf3917dd-2fb4-4746-973c-77cd64b086f3"
      },
      "outputs": [
        {
          "output_type": "stream",
          "name": "stdout",
          "text": [
            "Episode 100\tAverage Score: 34.61\n",
            "Episode 200\tAverage Score: 155.02\n",
            "0:01:26.467000\n"
          ]
        }
      ],
      "source": [
        "# Playing the game\n",
        "env = gym.make('CartPole-v1')\n",
        "env.seed(0)\n",
        "state_shape = env.observation_space.shape[0]\n",
        "action_shape = env.action_space.n\n",
        "\n",
        "# Trial run to check if algorithm runs and saves the data\n",
        "begin_time = datetime.datetime.now()\n",
        "agent = Agent(state_size=state_shape,action_size = action_shape,seed = 0)\n",
        "rewards,_ = train(n_episodes=200)\n",
        "time_taken = datetime.datetime.now() - begin_time\n",
        "print(time_taken)"
      ],
      "id": "7sZGkmOtTDot"
    },
    {
      "cell_type": "markdown",
      "metadata": {
        "id": "9xETfrEbaj-E"
      },
      "source": [
        "**Plotting the training curve of the DQN agent**"
      ],
      "id": "9xETfrEbaj-E"
    },
    {
      "cell_type": "code",
      "execution_count": null,
      "metadata": {
        "id": "6RyhsLCHajLO",
        "colab": {
          "base_uri": "https://localhost:8080/",
          "height": 370
        },
        "outputId": "545ba001-0536-4602-b036-255ad360c9a9"
      },
      "outputs": [
        {
          "output_type": "display_data",
          "data": {
            "image/png": "[encoded data removed]",
            "text/plain": [
              "<Figure size 720x360 with 1 Axes>"
            ]
          },
          "metadata": {
            "needs_background": "light"
          }
        }
      ],
      "source": [
        "plt.figure(figsize=(10, 5))\n",
        "plot_rewards(rewards, 1, \"DQN\")"
      ],
      "id": "6RyhsLCHajLO"
    },
    {
      "cell_type": "markdown",
      "metadata": {
        "id": "3g_rtlYrTUW4"
      },
      "source": [
        "**Task 2: Rendering an episode with the trained DQN agent**\n",
        "\n",
        "Your task will be to run an episode of simulation with the DQN agent. After every 50 steps of the episode, **you are to print the step reward r as well as the cumulative reward from the beginning of the episode**. Complete the code and run the function to render the episode. The function returns the cumulative reward"
      ],
      "id": "3g_rtlYrTUW4"
    },
    {
      "cell_type": "code",
      "execution_count": null,
      "metadata": {
        "id": "cu5tl9eS0h8W",
        "colab": {
          "base_uri": "https://localhost:8080/"
        },
        "outputId": "19d1f080-6a79-4e63-a191-2ffbb263b25b"
      },
      "outputs": [
        {
          "output_type": "stream",
          "name": "stdout",
          "text": [
            "0\n"
          ]
        }
      ],
      "source": [
        "print(agent.act(env.reset()))"
      ],
      "id": "cu5tl9eS0h8W"
    },
    {
      "cell_type": "code",
      "execution_count": null,
      "metadata": {
        "id": "fn0ipuujulIS"
      },
      "outputs": [],
      "source": [
        "def simulate_episode_dqn(env, wrap = False, render = False, video = False, log = False): #if log==True, print the step reward and cumulative reward\n",
        "    \n",
        "    \n",
        "\n",
        "    if(wrap):\n",
        "      env = wrap_env(env)\n",
        "\n",
        "    obs = env.reset()\n",
        "\n",
        "    cumulative_reward = 0\n",
        "\n",
        "    steps=0\n",
        "\n",
        "\n",
        "    while True:\n",
        "\n",
        "      if(render):\n",
        "        env.render()\n",
        "      action = agent.act(obs)\n",
        "      next_observation, reward, done, _ = env.step(action)\n",
        "\n",
        "      obs = next_observation\n",
        "\n",
        "      cumulative_reward += reward\n",
        "      steps +=1\n",
        "      if(steps%50==0 and log==True):\n",
        "        print(\"Reward\",reward)\n",
        "        print(\"Cumulative Reward\",cumulative_reward)\n",
        "\n",
        "      if(done or steps>500):\n",
        "          break    \n",
        "\n",
        "                \n",
        "    env.close()\n",
        "    if(video):\n",
        "      show_video()\n",
        "    return cumulative_reward"
      ],
      "id": "fn0ipuujulIS"
    },
    {
      "cell_type": "code",
      "execution_count": null,
      "metadata": {
        "id": "FXoRZSzvtBJG",
        "colab": {
          "base_uri": "https://localhost:8080/",
          "height": 585
        },
        "outputId": "e3e6fd21-270a-4e7b-b671-a97bd4074bac"
      },
      "outputs": [
        {
          "output_type": "stream",
          "name": "stdout",
          "text": [
            "Reward 1.0\n",
            "Cumulative Reward 50.0\n",
            "Reward 1.0\n",
            "Cumulative Reward 100.0\n",
            "Reward 1.0\n",
            "Cumulative Reward 150.0\n",
            "Reward 1.0\n",
            "Cumulative Reward 200.0\n"
          ]
        },
        {
          "output_type": "display_data",
          "data": {
            "text/html": [
              "<video alt=\"test\" autoplay \n",
              "                loop controls style=\"height: 400px;\">\n",
              "                <source src=\"data:video/mp4;base64,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\" type=\"video/mp4\" />\n",
              "             </video>"
            ],
            "text/plain": [
              "<IPython.core.display.HTML object>"
            ]
          },
          "metadata": {}
        },
        {
          "output_type": "stream",
          "name": "stdout",
          "text": [
            "Cumulative reward after episode termination 230.0\n"
          ]
        }
      ],
      "source": [
        "#Make environment\n",
        "total_rew = simulate_episode_dqn(env, wrap = True, render = True, video = True, log = True)\n",
        "print(\"Cumulative reward after episode termination\", total_rew)"
      ],
      "id": "FXoRZSzvtBJG"
    },
    {
      "cell_type": "markdown",
      "metadata": {
        "id": "bSzLKukxwlAc"
      },
      "source": [
        "## ------------------ **THANK YOU** ------------------- "
      ],
      "id": "bSzLKukxwlAc"
    }
  ],
  "metadata": {
    "accelerator": "GPU",
    "colab": {
      "collapsed_sections": [],
      "name": "Tutorial_1_Monday .ipynb",
      "provenance": []
    },
    "kernelspec": {
      "display_name": "Python 3 (ipykernel)",
      "language": "python",
      "name": "python3"
    },
    "language_info": {
      "codemirror_mode": {
        "name": "ipython",
        "version": 3
      },
      "file_extension": ".py",
      "mimetype": "text/x-python",
      "name": "python",
      "nbconvert_exporter": "python",
      "pygments_lexer": "ipython3",
      "version": "3.9.7"
    }
  },
  "nbformat": 4,
  "nbformat_minor": 5
}