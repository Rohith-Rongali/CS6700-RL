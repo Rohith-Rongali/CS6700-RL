{
  "nbformat": 4,
  "nbformat_minor": 0,
  "metadata": {
    "colab": {
      "name": "Tutorial_4_DQN_and_AC.ipynb",
      "provenance": [],
      "collapsed_sections": []
    },
    "kernelspec": {
      "name": "python3",
      "display_name": "Python 3"
    },
    "language_info": {
      "name": "python"
    },
    "accelerator": "GPU"
  },
  "cells": [
    {
      "cell_type": "markdown",
      "source": [
        "#**Tutorial 4 - DQN and Actor-Critic**\n",
        "\n",
        "Please follow this tutorial to understand the structure (code) of DQNs & get familiar with Actor Critic methods.\n",
        "\n",
        "\n",
        "### References:\n",
        "\n",
        "Please follow [Human-level control through deep reinforcement learning](https://www.nature.com/articles/nature14236) for the original publication as well as the psuedocode. Watch Prof. Ravi's lectures on moodle or nptel for further understanding the core concepts. Contact the TAs for further resources if needed. \n",
        "\n",
        "\n",
        "##**Part 1: DQN**"
      ],
      "metadata": {
        "id": "pn7PKu9r0asK"
      }
    },
    {
      "cell_type": "code",
      "source": [
        "'''\n",
        "Installing packages for rendering the game on Colab\n",
        "'''\n",
        "\n",
        "!pip install gym pyvirtualdisplay > /dev/null 2>&1\n",
        "!apt-get install -y xvfb python-opengl ffmpeg > /dev/null 2>&1\n",
        "!apt-get update > /dev/null 2>&1\n",
        "!apt-get install cmake > /dev/null 2>&1\n",
        "!pip install --upgrade setuptools 2>&1\n",
        "!pip install ez_setup > /dev/null 2>&1\n",
        "!pip install gym[atari] > /dev/null 2>&1\n",
        "!pip install git+https://github.com/tensorflow/docs > /dev/null 2>&1"
      ],
      "metadata": {
        "colab": {
          "base_uri": "https://localhost:8080/",
          "height": 348
        },
        "id": "azUjb7UK4Yfh",
        "outputId": "31d51bba-08bf-41c3-b542-48f8a052a0fd"
      },
      "execution_count": null,
      "outputs": [
        {
          "output_type": "stream",
          "name": "stdout",
          "text": [
            "Requirement already satisfied: setuptools in /usr/local/lib/python3.7/dist-packages (57.4.0)\n",
            "Collecting setuptools\n",
            "  Downloading setuptools-61.2.0-py3-none-any.whl (1.1 MB)\n",
            "\u001b[K     |████████████████████████████████| 1.1 MB 4.3 MB/s \n",
            "\u001b[?25hInstalling collected packages: setuptools\n",
            "  Attempting uninstall: setuptools\n",
            "    Found existing installation: setuptools 57.4.0\n",
            "    Uninstalling setuptools-57.4.0:\n",
            "      Successfully uninstalled setuptools-57.4.0\n",
            "\u001b[31mERROR: pip's dependency resolver does not currently take into account all the packages that are installed. This behaviour is the source of the following dependency conflicts.\n",
            "tensorflow 2.8.0 requires tf-estimator-nightly==2.8.0.dev2021122109, which is not installed.\n",
            "datascience 0.10.6 requires folium==0.2.1, but you have folium 0.8.3 which is incompatible.\u001b[0m\n",
            "Successfully installed setuptools-61.2.0\n"
          ]
        },
        {
          "output_type": "display_data",
          "data": {
            "application/vnd.colab-display-data+json": {
              "pip_warning": {
                "packages": [
                  "pkg_resources"
                ]
              }
            }
          },
          "metadata": {}
        }
      ]
    },
    {
      "cell_type": "code",
      "source": [
        "!pip install tensorflow-gpu"
      ],
      "metadata": {
        "id": "dfCgocAHOZ6n",
        "colab": {
          "base_uri": "https://localhost:8080/"
        },
        "outputId": "5607b8a1-f50c-495b-9b78-801381c4dca7"
      },
      "execution_count": null,
      "outputs": [
        {
          "output_type": "stream",
          "name": "stdout",
          "text": [
            "Collecting tensorflow-gpu\n",
            "  Downloading tensorflow_gpu-2.8.0-cp37-cp37m-manylinux2010_x86_64.whl (497.5 MB)\n",
            "\u001b[K     |████████████████████████████████| 497.5 MB 26 kB/s \n",
            "\u001b[?25hRequirement already satisfied: google-pasta>=0.1.1 in /usr/local/lib/python3.7/dist-packages (from tensorflow-gpu) (0.2.0)\n",
            "Collecting tf-estimator-nightly==2.8.0.dev2021122109\n",
            "  Downloading tf_estimator_nightly-2.8.0.dev2021122109-py2.py3-none-any.whl (462 kB)\n",
            "\u001b[K     |████████████████████████████████| 462 kB 64.4 MB/s \n",
            "\u001b[?25hRequirement already satisfied: keras<2.9,>=2.8.0rc0 in /usr/local/lib/python3.7/dist-packages (from tensorflow-gpu) (2.8.0)\n",
            "Requirement already satisfied: flatbuffers>=1.12 in /usr/local/lib/python3.7/dist-packages (from tensorflow-gpu) (2.0)\n",
            "Requirement already satisfied: typing-extensions>=3.6.6 in /usr/local/lib/python3.7/dist-packages (from tensorflow-gpu) (3.10.0.2)\n",
            "Requirement already satisfied: absl-py>=0.4.0 in /usr/local/lib/python3.7/dist-packages (from tensorflow-gpu) (1.0.0)\n",
            "Requirement already satisfied: tensorboard<2.9,>=2.8 in /usr/local/lib/python3.7/dist-packages (from tensorflow-gpu) (2.8.0)\n",
            "Requirement already satisfied: keras-preprocessing>=1.1.1 in /usr/local/lib/python3.7/dist-packages (from tensorflow-gpu) (1.1.2)\n",
            "Requirement already satisfied: termcolor>=1.1.0 in /usr/local/lib/python3.7/dist-packages (from tensorflow-gpu) (1.1.0)\n",
            "Requirement already satisfied: protobuf>=3.9.2 in /usr/local/lib/python3.7/dist-packages (from tensorflow-gpu) (3.17.3)\n",
            "Requirement already satisfied: numpy>=1.20 in /usr/local/lib/python3.7/dist-packages (from tensorflow-gpu) (1.21.5)\n",
            "Requirement already satisfied: opt-einsum>=2.3.2 in /usr/local/lib/python3.7/dist-packages (from tensorflow-gpu) (3.3.0)\n",
            "Requirement already satisfied: grpcio<2.0,>=1.24.3 in /usr/local/lib/python3.7/dist-packages (from tensorflow-gpu) (1.44.0)\n",
            "Requirement already satisfied: astunparse>=1.6.0 in /usr/local/lib/python3.7/dist-packages (from tensorflow-gpu) (1.6.3)\n",
            "Requirement already satisfied: setuptools in /usr/local/lib/python3.7/dist-packages (from tensorflow-gpu) (60.10.0)\n",
            "Requirement already satisfied: gast>=0.2.1 in /usr/local/lib/python3.7/dist-packages (from tensorflow-gpu) (0.5.3)\n",
            "Requirement already satisfied: six>=1.12.0 in /usr/local/lib/python3.7/dist-packages (from tensorflow-gpu) (1.15.0)\n",
            "Requirement already satisfied: tensorflow-io-gcs-filesystem>=0.23.1 in /usr/local/lib/python3.7/dist-packages (from tensorflow-gpu) (0.24.0)\n",
            "Requirement already satisfied: h5py>=2.9.0 in /usr/local/lib/python3.7/dist-packages (from tensorflow-gpu) (3.1.0)\n",
            "Requirement already satisfied: wrapt>=1.11.0 in /usr/local/lib/python3.7/dist-packages (from tensorflow-gpu) (1.14.0)\n",
            "Requirement already satisfied: libclang>=9.0.1 in /usr/local/lib/python3.7/dist-packages (from tensorflow-gpu) (13.0.0)\n",
            "Requirement already satisfied: wheel<1.0,>=0.23.0 in /usr/local/lib/python3.7/dist-packages (from astunparse>=1.6.0->tensorflow-gpu) (0.37.1)\n",
            "Requirement already satisfied: cached-property in /usr/local/lib/python3.7/dist-packages (from h5py>=2.9.0->tensorflow-gpu) (1.5.2)\n",
            "Requirement already satisfied: requests<3,>=2.21.0 in /usr/local/lib/python3.7/dist-packages (from tensorboard<2.9,>=2.8->tensorflow-gpu) (2.23.0)\n",
            "Requirement already satisfied: tensorboard-plugin-wit>=1.6.0 in /usr/local/lib/python3.7/dist-packages (from tensorboard<2.9,>=2.8->tensorflow-gpu) (1.8.1)\n",
            "Requirement already satisfied: google-auth<3,>=1.6.3 in /usr/local/lib/python3.7/dist-packages (from tensorboard<2.9,>=2.8->tensorflow-gpu) (1.35.0)\n",
            "Requirement already satisfied: markdown>=2.6.8 in /usr/local/lib/python3.7/dist-packages (from tensorboard<2.9,>=2.8->tensorflow-gpu) (3.3.6)\n",
            "Requirement already satisfied: tensorboard-data-server<0.7.0,>=0.6.0 in /usr/local/lib/python3.7/dist-packages (from tensorboard<2.9,>=2.8->tensorflow-gpu) (0.6.1)\n",
            "Requirement already satisfied: werkzeug>=0.11.15 in /usr/local/lib/python3.7/dist-packages (from tensorboard<2.9,>=2.8->tensorflow-gpu) (1.0.1)\n",
            "Requirement already satisfied: google-auth-oauthlib<0.5,>=0.4.1 in /usr/local/lib/python3.7/dist-packages (from tensorboard<2.9,>=2.8->tensorflow-gpu) (0.4.6)\n",
            "Requirement already satisfied: rsa<5,>=3.1.4 in /usr/local/lib/python3.7/dist-packages (from google-auth<3,>=1.6.3->tensorboard<2.9,>=2.8->tensorflow-gpu) (4.8)\n",
            "Requirement already satisfied: cachetools<5.0,>=2.0.0 in /usr/local/lib/python3.7/dist-packages (from google-auth<3,>=1.6.3->tensorboard<2.9,>=2.8->tensorflow-gpu) (4.2.4)\n",
            "Requirement already satisfied: pyasn1-modules>=0.2.1 in /usr/local/lib/python3.7/dist-packages (from google-auth<3,>=1.6.3->tensorboard<2.9,>=2.8->tensorflow-gpu) (0.2.8)\n",
            "Requirement already satisfied: requests-oauthlib>=0.7.0 in /usr/local/lib/python3.7/dist-packages (from google-auth-oauthlib<0.5,>=0.4.1->tensorboard<2.9,>=2.8->tensorflow-gpu) (1.3.1)\n",
            "Requirement already satisfied: importlib-metadata>=4.4 in /usr/local/lib/python3.7/dist-packages (from markdown>=2.6.8->tensorboard<2.9,>=2.8->tensorflow-gpu) (4.11.3)\n",
            "Requirement already satisfied: zipp>=0.5 in /usr/local/lib/python3.7/dist-packages (from importlib-metadata>=4.4->markdown>=2.6.8->tensorboard<2.9,>=2.8->tensorflow-gpu) (3.7.0)\n",
            "Requirement already satisfied: pyasn1<0.5.0,>=0.4.6 in /usr/local/lib/python3.7/dist-packages (from pyasn1-modules>=0.2.1->google-auth<3,>=1.6.3->tensorboard<2.9,>=2.8->tensorflow-gpu) (0.4.8)\n",
            "Requirement already satisfied: certifi>=2017.4.17 in /usr/local/lib/python3.7/dist-packages (from requests<3,>=2.21.0->tensorboard<2.9,>=2.8->tensorflow-gpu) (2021.10.8)\n",
            "Requirement already satisfied: urllib3!=1.25.0,!=1.25.1,<1.26,>=1.21.1 in /usr/local/lib/python3.7/dist-packages (from requests<3,>=2.21.0->tensorboard<2.9,>=2.8->tensorflow-gpu) (1.24.3)\n",
            "Requirement already satisfied: idna<3,>=2.5 in /usr/local/lib/python3.7/dist-packages (from requests<3,>=2.21.0->tensorboard<2.9,>=2.8->tensorflow-gpu) (2.10)\n",
            "Requirement already satisfied: chardet<4,>=3.0.2 in /usr/local/lib/python3.7/dist-packages (from requests<3,>=2.21.0->tensorboard<2.9,>=2.8->tensorflow-gpu) (3.0.4)\n",
            "Requirement already satisfied: oauthlib>=3.0.0 in /usr/local/lib/python3.7/dist-packages (from requests-oauthlib>=0.7.0->google-auth-oauthlib<0.5,>=0.4.1->tensorboard<2.9,>=2.8->tensorflow-gpu) (3.2.0)\n",
            "Installing collected packages: tf-estimator-nightly, tensorflow-gpu\n",
            "Successfully installed tensorflow-gpu-2.8.0 tf-estimator-nightly-2.8.0.dev2021122109\n"
          ]
        }
      ]
    },
    {
      "cell_type": "code",
      "source": [
        "'''\n",
        "A bunch of imports, you don't have to worry about these\n",
        "'''\n",
        "\n",
        "import numpy as np\n",
        "import random\n",
        "import torch\n",
        "import torch.nn as nn  \n",
        "import torch.nn.functional as F\n",
        "from collections import namedtuple, deque\n",
        "import torch.optim as optim\n",
        "import datetime\n",
        "import gym\n",
        "from gym.wrappers import Monitor\n",
        "import glob\n",
        "import io\n",
        "import base64\n",
        "import matplotlib.pyplot as plt\n",
        "from IPython.display import HTML\n",
        "from pyvirtualdisplay import Display\n",
        "import tensorflow as tf\n",
        "from IPython import display as ipythondisplay\n",
        "from PIL import Image\n",
        "import tensorflow_probability as tfp"
      ],
      "metadata": {
        "id": "P_DODRgW_ZKS"
      },
      "execution_count": null,
      "outputs": []
    },
    {
      "cell_type": "code",
      "source": [
        "'''\n",
        "Please refer to the first tutorial for more details on the specifics of environments\n",
        "We've only added important commands you might find useful for experiments.\n",
        "'''\n",
        "\n",
        "'''\n",
        "List of example environments\n",
        "(Source - https://gym.openai.com/envs/#classic_control)\n",
        "\n",
        "'Acrobot-v1'\n",
        "'CartPole-v0'\n",
        "'MountainCar-v0'\n",
        "'''\n",
        "\n",
        "env = gym.make('CartPole-v0')\n",
        "env.seed(0)\n",
        "\n",
        "state_shape = env.observation_space.shape[0]\n",
        "no_of_actions = env.action_space.n\n",
        "\n",
        "print(state_shape)\n",
        "print(no_of_actions)\n",
        "print(env.action_space.sample())\n",
        "print(\"----\")\n",
        "\n",
        "'''\n",
        "# Understanding State, Action, Reward Dynamics\n",
        "\n",
        "The agent decides an action to take depending on the state.\n",
        "\n",
        "The Environment keeps a variable specifically for the current state.\n",
        "- Everytime an action is passed to the environment, it calculates the new state and updates the current state variable.\n",
        "- It returns the new current state and reward for the agent to take the next action\n",
        "\n",
        "'''\n",
        "\n",
        "state = env.reset()   \n",
        "''' This returns the initial state (when environment is reset) '''\n",
        "\n",
        "print(state)\n",
        "print(\"----\")\n",
        "\n",
        "action = env.action_space.sample()  \n",
        "''' We take a random action now '''\n",
        "\n",
        "print(action)\n",
        "print(\"----\")\n",
        "\n",
        "next_state, reward, done, info = env.step(action) \n",
        "''' env.step is used to calculate new state and obtain reward based on old state and action taken  ''' \n",
        "\n",
        "print(next_state)\n",
        "print(reward)\n",
        "print(done)\n",
        "print(info)\n",
        "print(\"----\")\n"
      ],
      "metadata": {
        "colab": {
          "base_uri": "https://localhost:8080/"
        },
        "id": "fYNA5kiH_esJ",
        "outputId": "820f7252-55f9-4272-f658-9accba64ac5a"
      },
      "execution_count": null,
      "outputs": [
        {
          "output_type": "stream",
          "name": "stdout",
          "text": [
            "4\n",
            "2\n",
            "1\n",
            "----\n",
            "[-0.04456399  0.04653909  0.01326909 -0.02099827]\n",
            "----\n",
            "0\n",
            "----\n",
            "[-0.04363321 -0.14877061  0.01284913  0.2758415 ]\n",
            "1.0\n",
            "False\n",
            "{}\n",
            "----\n"
          ]
        }
      ]
    },
    {
      "cell_type": "markdown",
      "source": [
        "## DQN\n",
        "\n",
        "Using NNs as substitutes isn't something new. It has been tried earlier, but the 'human control' paper really popularised using NNs by providing a few stability ideas (Q-Targets, Experience Replay & Truncation). The 'Deep-Q Network' (DQN) Algorithm can be broken down into having the following components. \n",
        "\n",
        "### Q-Network:\n",
        "The neural network used as a function approximator is defined below"
      ],
      "metadata": {
        "id": "apuaOxavDXus"
      }
    },
    {
      "cell_type": "code",
      "source": [
        "'''\n",
        "### Q Network & Some 'hyperparameters'\n",
        "\n",
        "QNetwork1:\n",
        "Input Layer - 4 nodes (State Shape) \\\n",
        "Hidden Layer 1 - 64 nodes \\\n",
        "Hidden Layer 2 - 64 nodes \\\n",
        "Output Layer - 2 nodes (Action Space) \\\n",
        "Optimizer - zero_grad()\n",
        "\n",
        "QNetwork2: Feel free to experiment more\n",
        "'''\n",
        "\n",
        "import torch\n",
        "import torch.nn as nn  \n",
        "import torch.nn.functional as F\n",
        "\n",
        "\n",
        "'''\n",
        "Bunch of Hyper parameters (Which you might have to tune later **wink wink**)\n",
        "'''\n",
        "BUFFER_SIZE = int(1e5)  # replay buffer size \n",
        "BATCH_SIZE = 64         # minibatch size '''\n",
        "GAMMA = 0.99            # discount factor '''\n",
        "LR = 5e-4               # learning rate '''\n",
        "UPDATE_EVERY = 20       # how often to update the network (When Q target is present) '''\n",
        "\n",
        "\n",
        "class QNetwork1(nn.Module):\n",
        "\n",
        "    def __init__(self, state_size, action_size, seed, fc1_units=128, fc2_units=64):\n",
        "        \"\"\"Initialize parameters and build model.\n",
        "        Params\n",
        "        ======\n",
        "            state_size (int): Dimension of each state\n",
        "            action_size (int): Dimension of each action\n",
        "            seed (int): Random seed\n",
        "            fc1_units (int): Number of nodes in first hidden layer\n",
        "            fc2_units (int): Number of nodes in second hidden layer\n",
        "        \"\"\"\n",
        "        super(QNetwork1, self).__init__()\n",
        "        self.seed = torch.manual_seed(seed)\n",
        "        self.fc1 = nn.Linear(state_size, fc1_units)\n",
        "        self.fc2 = nn.Linear(fc1_units, fc2_units)\n",
        "        self.fc3 = nn.Linear(fc2_units, action_size)\n",
        "\n",
        "    def forward(self, state):\n",
        "        \"\"\"Build a network that maps state -> action values.\"\"\"\n",
        "        x = F.relu(self.fc1(state))\n",
        "        x = F.relu(self.fc2(x))\n",
        "        return self.fc3(x)"
      ],
      "metadata": {
        "id": "g4MRC1p2DZbp"
      },
      "execution_count": null,
      "outputs": []
    },
    {
      "cell_type": "markdown",
      "source": [
        "### Replay Buffer:\n",
        "\n",
        "This is a 'deque' that helps us store experiences. Recall why we use such a technique."
      ],
      "metadata": {
        "id": "Jmv5c0XoK8GA"
      }
    },
    {
      "cell_type": "code",
      "source": [
        "import random\n",
        "import torch\n",
        "import numpy as np\n",
        "from collections import deque, namedtuple\n",
        "\n",
        "device = torch.device(\"cuda:0\" if torch.cuda.is_available() else \"cpu\")\n",
        "\n",
        "class ReplayBuffer:\n",
        "    \"\"\"Fixed-size buffer to store experience tuples.\"\"\"\n",
        "\n",
        "    def __init__(self, action_size, buffer_size, batch_size, seed):\n",
        "        \"\"\"Initialize a ReplayBuffer object.\n",
        "\n",
        "        Params\n",
        "        ======\n",
        "            action_size (int): dimension of each action\n",
        "            buffer_size (int): maximum size of buffer\n",
        "            batch_size (int): size of each training batch\n",
        "            seed (int): random seed\n",
        "        \"\"\"\n",
        "        self.action_size = action_size\n",
        "        self.memory = deque(maxlen=buffer_size)  \n",
        "        self.batch_size = batch_size\n",
        "        self.experience = namedtuple(\"Experience\", field_names=[\"state\", \"action\", \"reward\", \"next_state\", \"done\"])\n",
        "        self.seed = random.seed(seed)\n",
        "    \n",
        "    def add(self, state, action, reward, next_state, done):\n",
        "        \"\"\"Add a new experience to memory.\"\"\"\n",
        "        e = self.experience(state, action, reward, next_state, done)\n",
        "        self.memory.append(e)\n",
        "    \n",
        "    def sample(self):\n",
        "        \"\"\"Randomly sample a batch of experiences from memory.\"\"\"\n",
        "        experiences = random.sample(self.memory, k=self.batch_size)\n",
        "\n",
        "        states = torch.from_numpy(np.vstack([e.state for e in experiences if e is not None])).float().to(device)\n",
        "        actions = torch.from_numpy(np.vstack([e.action for e in experiences if e is not None])).long().to(device)\n",
        "        rewards = torch.from_numpy(np.vstack([e.reward for e in experiences if e is not None])).float().to(device)\n",
        "        next_states = torch.from_numpy(np.vstack([e.next_state for e in experiences if e is not None])).float().to(device)\n",
        "        dones = torch.from_numpy(np.vstack([e.done for e in experiences if e is not None]).astype(np.uint8)).float().to(device)\n",
        "  \n",
        "        return (states, actions, rewards, next_states, dones)\n",
        "\n",
        "    def __len__(self):\n",
        "        \"\"\"Return the current size of internal memory.\"\"\"\n",
        "        return len(self.memory)"
      ],
      "metadata": {
        "id": "bh_oghc7Ledh"
      },
      "execution_count": null,
      "outputs": []
    },
    {
      "cell_type": "markdown",
      "source": [
        "## Truncation:\n",
        "We add a line (optionally) in the code to truncate the gradient in hopes that it would help with the stability of the learning process.\n",
        "\n",
        "## Tutorial Agent Code:\n"
      ],
      "metadata": {
        "id": "N8VJYkqoLqlO"
      }
    },
    {
      "cell_type": "code",
      "source": [
        "class TutorialAgent():\n",
        "\n",
        "    def __init__(self, state_size, action_size, seed):\n",
        "\n",
        "        ''' Agent Environment Interaction '''\n",
        "        self.state_size = state_size\n",
        "        self.action_size = action_size\n",
        "        self.seed = random.seed(seed)\n",
        "\n",
        "        ''' Q-Network '''\n",
        "        self.qnetwork_local = QNetwork1(state_size, action_size, seed).to(device)\n",
        "        self.qnetwork_target = QNetwork1(state_size, action_size, seed).to(device)\n",
        "        self.optimizer = optim.Adam(self.qnetwork_local.parameters(), lr=LR)\n",
        "\n",
        "        ''' Replay memory '''\n",
        "        self.memory = ReplayBuffer(action_size, BUFFER_SIZE, BATCH_SIZE, seed)\n",
        "\n",
        "        ''' Initialize time step (for updating every UPDATE_EVERY steps)           -Needed for Q Targets '''\n",
        "        self.t_step = 0\n",
        "    \n",
        "    def step(self, state, action, reward, next_state, done):\n",
        "\n",
        "        ''' Save experience in replay memory '''\n",
        "        self.memory.add(state, action, reward, next_state, done)\n",
        "        \n",
        "        ''' If enough samples are available in memory, get random subset and learn '''\n",
        "        if len(self.memory) >= BATCH_SIZE:\n",
        "            experiences = self.memory.sample()\n",
        "            self.learn(experiences, GAMMA)\n",
        "\n",
        "        \"\"\" +Q TARGETS PRESENT \"\"\"\n",
        "        ''' Updating the Network every 'UPDATE_EVERY' steps taken '''      \n",
        "        self.t_step = (self.t_step + 1) % UPDATE_EVERY\n",
        "        if self.t_step == 0:\n",
        "\n",
        "            self.qnetwork_target.load_state_dict(self.qnetwork_local.state_dict())\n",
        "\n",
        "    def act(self, state, eps=0.):\n",
        "\n",
        "        state = torch.from_numpy(state).float().unsqueeze(0).to(device)\n",
        "        self.qnetwork_local.eval()\n",
        "        with torch.no_grad():\n",
        "            action_values = self.qnetwork_local(state)\n",
        "        self.qnetwork_local.train()\n",
        "\n",
        "        ''' Epsilon-greedy action selection (Already Present) '''\n",
        "        if random.random() > eps:\n",
        "            return np.argmax(action_values.cpu().data.numpy())\n",
        "        else:\n",
        "            return random.choice(np.arange(self.action_size))\n",
        "\n",
        "    def learn(self, experiences, gamma):\n",
        "        \"\"\" +E EXPERIENCE REPLAY PRESENT \"\"\"\n",
        "        states, actions, rewards, next_states, dones = experiences\n",
        "\n",
        "        ''' Get max predicted Q values (for next states) from target model'''\n",
        "        Q_targets_next = self.qnetwork_target(next_states).detach().max(1)[0].unsqueeze(1)\n",
        "\n",
        "        ''' Compute Q targets for current states '''\n",
        "        Q_targets = rewards + (gamma * Q_targets_next * (1 - dones))\n",
        "\n",
        "        ''' Get expected Q values from local model '''\n",
        "        Q_expected = self.qnetwork_local(states).gather(1, actions)\n",
        "\n",
        "        ''' Compute loss '''\n",
        "        loss = F.mse_loss(Q_expected, Q_targets)\n",
        "\n",
        "        ''' Minimize the loss '''\n",
        "        self.optimizer.zero_grad()\n",
        "        loss.backward()\n",
        "        \n",
        "        ''' Gradiant Clipping '''\n",
        "        \"\"\" +T TRUNCATION PRESENT \"\"\"\n",
        "        for param in self.qnetwork_local.parameters():\n",
        "            param.grad.data.clamp_(-1, 1)\n",
        "            \n",
        "        self.optimizer.step()"
      ],
      "metadata": {
        "id": "ok_5eQM7OCTj"
      },
      "execution_count": null,
      "outputs": []
    },
    {
      "cell_type": "markdown",
      "source": [
        "### Here, we present the DQN algorithm code."
      ],
      "metadata": {
        "id": "3SQFbRCHWQyO"
      }
    },
    {
      "cell_type": "code",
      "source": [
        "''' Defining DQN Algorithm '''\n",
        "\n",
        "state_shape = env.observation_space.shape[0]\n",
        "action_shape = env.action_space.n\n",
        "\n",
        "def dqn(n_episodes=10000, max_t=1000, eps_start=1.0, eps_end=0.001, eps_decay=0.998):   #changed the values slightly\n",
        "\n",
        "    scores = []                 \n",
        "    ''' list containing scores from each episode '''\n",
        "\n",
        "    scores_window_printing = deque(maxlen=10) \n",
        "    ''' For printing in the graph '''\n",
        "    \n",
        "    scores_window= deque(maxlen=100)  \n",
        "    ''' last 100 scores for checking if the avg is more than 195 '''\n",
        "\n",
        "    eps = eps_start                    \n",
        "    ''' initialize epsilon '''\n",
        "\n",
        "    for i_episode in range(1, n_episodes+1):\n",
        "        state = env.reset()\n",
        "        score = 0\n",
        "        for t in range(max_t):\n",
        "            action = agent.act(state, eps)\n",
        "            next_state, reward, done, _ = env.step(action)\n",
        "            agent.step(state, action, reward, next_state, done)\n",
        "            state = next_state\n",
        "            score += reward\n",
        "            if done:\n",
        "                break \n",
        "\n",
        "        scores_window.append(score)       \n",
        "        scores_window_printing.append(score)   \n",
        "        ''' save most recent score '''           \n",
        "\n",
        "        eps = max(eps_end, eps_decay*eps) \n",
        "        ''' decrease epsilon '''\n",
        "\n",
        "        print('\\rEpisode {}\\tAverage Score: {:.2f}'.format(i_episode, np.mean(scores_window)), end=\"\")  \n",
        "        if i_episode % 10 == 0: \n",
        "            scores.append(np.mean(scores_window_printing))        \n",
        "        if i_episode % 100 == 0: \n",
        "           print('\\rEpisode {}\\tAverage Score: {:.2f}'.format(i_episode, np.mean(scores_window)))\n",
        "        if np.mean(scores_window)>=195.0:\n",
        "           print('\\nEnvironment solved in {:d} episodes!\\tAverage Score: {:.2f}'.format(i_episode-100, np.mean(scores_window)))\n",
        "           break\n",
        "    return [np.array(scores),i_episode]\n",
        "\n",
        "''' Trial run to check if algorithm runs and saves the data '''\n",
        "\n",
        "begin_time = datetime.datetime.now()\n",
        "agent = TutorialAgent(state_size=state_shape,action_size = action_shape,seed = 0)\n",
        "\n",
        "\n",
        "epsilon_scores,epsilon_iters = dqn()\n",
        "\n",
        "\n",
        "time_taken = datetime.datetime.now() - begin_time\n",
        "\n",
        "print(time_taken)"
      ],
      "metadata": {
        "colab": {
          "base_uri": "https://localhost:8080/"
        },
        "id": "r6A2TdUHWVUN",
        "outputId": "9c41cbb4-5618-4c65-85e0-ff634c7cdb50"
      },
      "execution_count": null,
      "outputs": [
        {
          "output_type": "stream",
          "name": "stdout",
          "text": [
            "Episode 100\tAverage Score: 26.70\n",
            "Episode 200\tAverage Score: 41.23\n",
            "Episode 300\tAverage Score: 77.59\n",
            "Episode 400\tAverage Score: 114.75\n",
            "Episode 500\tAverage Score: 103.44\n",
            "Episode 600\tAverage Score: 36.56\n",
            "Episode 700\tAverage Score: 33.11\n",
            "Episode 800\tAverage Score: 26.07\n",
            "Episode 900\tAverage Score: 13.80\n",
            "Episode 1000\tAverage Score: 15.22\n",
            "Episode 1100\tAverage Score: 69.83\n",
            "Episode 1200\tAverage Score: 27.96\n",
            "Episode 1300\tAverage Score: 15.01\n",
            "Episode 1400\tAverage Score: 14.48\n",
            "Episode 1500\tAverage Score: 19.49\n",
            "Episode 1600\tAverage Score: 25.84\n",
            "Episode 1700\tAverage Score: 20.70\n",
            "Episode 1800\tAverage Score: 11.63\n",
            "Episode 1900\tAverage Score: 12.69\n",
            "Episode 2000\tAverage Score: 14.97\n",
            "Episode 2100\tAverage Score: 20.07\n",
            "Episode 2200\tAverage Score: 24.19\n",
            "Episode 2300\tAverage Score: 42.73\n",
            "Episode 2400\tAverage Score: 37.55\n",
            "Episode 2500\tAverage Score: 168.44\n",
            "Episode 2519\tAverage Score: 195.34\n",
            "Environment solved in 2419 episodes!\tAverage Score: 195.34\n",
            "0:05:42.167920\n"
          ]
        }
      ]
    },
    {
      "cell_type": "markdown",
      "source": [
        "### **Task 1a**  \n",
        "Understand the core of the algorithm, follow the flow of data. Identify the exploration strategy used.\n",
        "### **Task 1b**\n",
        "Out of the two exploration strategies discussed in class ($ϵ$-greedy & Softmax). Implement the strategy that's not used here. \n",
        "### **Task 1c**\n",
        "How fast does the agent 'solve' the environment in terms of the number of episodes?\n",
        "(CartPole-v0 defines \"solving\" as getting average reward of 195.0 over 100 consecutive trials. SOURCE - https://gym.openai.com/envs/CartPole-v0/)\n",
        "\n",
        "How 'well' does the agent learn? (reward plot?) The above two are some 'evaluation metrics' you can use to comment on the performance of an algorithm.\n",
        "\n",
        "Please compare DQN (using $\\epsilon$-greedy) with DQN (using softmax). Think along the lines of 'no. of episodes', 'reward plots', 'compute time', etc. and add a few comments.\n",
        "\n",
        "### **Task 1d (Optional)** \n",
        "\n",
        "Take a look at the official submissions page on [OpenAI gym's CartPole v-0 evaluations](https://gym.openai.com/envs/CartPole-v0/) \n",
        "\n",
        "\n"
      ],
      "metadata": {
        "id": "sL9YMq9yPHLk"
      }
    },
    {
      "cell_type": "markdown",
      "source": [
        "(1.a) Epsilon-greedy was used. "
      ],
      "metadata": {
        "id": "bCNgl1Nj-hMC"
      }
    },
    {
      "cell_type": "markdown",
      "source": [
        "#### **Submission Steps**\n",
        "\n",
        "#### Task 1: Add a text cell with the answer.\n",
        "\n",
        "#### Task 2: Add a code cell below task 1 solution and use 'Tutorial Agent Code' to build your new agent (with a different exploration strategy).\n",
        "\n",
        "#### Task 3: Add a code cell below task 2 solution running both the agents to solve the CartPole v-0 environment and add a new text cell below it with your inferences."
      ],
      "metadata": {
        "id": "5LBh6_lOVBdN"
      }
    },
    {
      "cell_type": "code",
      "source": [
        "#Lets try and implement softmax\n",
        "\n",
        "class TutorialAgent():\n",
        "\n",
        "    def __init__(self, state_size, action_size, seed):\n",
        "\n",
        "        ''' Agent Environment Interaction '''\n",
        "        self.state_size = state_size\n",
        "        self.action_size = action_size\n",
        "        self.seed = random.seed(seed)\n",
        "\n",
        "        ''' Q-Network '''\n",
        "        self.qnetwork_local = QNetwork1(state_size, action_size, seed).to(device)\n",
        "        self.qnetwork_target = QNetwork1(state_size, action_size, seed).to(device)\n",
        "        self.optimizer = optim.Adam(self.qnetwork_local.parameters(), lr=LR)\n",
        "\n",
        "        ''' Replay memory '''\n",
        "        self.memory = ReplayBuffer(action_size, BUFFER_SIZE, BATCH_SIZE, seed)\n",
        "\n",
        "        ''' Initialize time step (for updating every UPDATE_EVERY steps)           -Needed for Q Targets '''\n",
        "        self.t_step = 0\n",
        "    \n",
        "    def step(self, state, action, reward, next_state, done):\n",
        "\n",
        "        ''' Save experience in replay memory '''\n",
        "        self.memory.add(state, action, reward, next_state, done)\n",
        "        \n",
        "        ''' If enough samples are available in memory, get random subset and learn '''\n",
        "        if len(self.memory) >= BATCH_SIZE:\n",
        "            experiences = self.memory.sample()\n",
        "            self.learn(experiences, GAMMA)\n",
        "\n",
        "        \"\"\" +Q TARGETS PRESENT \"\"\"\n",
        "        ''' Updating the Network every 'UPDATE_EVERY' steps taken '''      \n",
        "        self.t_step = (self.t_step + 1) % UPDATE_EVERY\n",
        "        if self.t_step == 0:\n",
        "\n",
        "            self.qnetwork_target.load_state_dict(self.qnetwork_local.state_dict())\n",
        "\n",
        "    def act(self, state, temp=1):\n",
        "\n",
        "        state = torch.from_numpy(state).float().unsqueeze(0).to(device)\n",
        "        self.qnetwork_local.eval()\n",
        "        with torch.no_grad():\n",
        "            action_values = self.qnetwork_local(state)\n",
        "        self.qnetwork_local.train()\n",
        "\n",
        "        ''' Softmax action selection'''\n",
        "        #if random.random() > eps:\n",
        "        #    return np.argmax(action_values.cpu().data.numpy())\n",
        "        #else:\n",
        "        #    return random.choice(np.arange(self.action_size))\n",
        "\n",
        "        from scipy.special import softmax\n",
        "        prob = np.nan_to_num(softmax(action_values.cpu().data.numpy()[0] / temp))\n",
        "        prob /= prob.sum()       \n",
        "        return np.random.choice(self.action_size, p = prob)\n",
        "\n",
        "    def learn(self, experiences, gamma):\n",
        "        \"\"\" +E EXPERIENCE REPLAY PRESENT \"\"\"\n",
        "        states, actions, rewards, next_states, dones = experiences\n",
        "\n",
        "        ''' Get max predicted Q values (for next states) from target model'''\n",
        "        Q_targets_next = self.qnetwork_target(next_states).detach().max(1)[0].unsqueeze(1)\n",
        "\n",
        "        ''' Compute Q targets for current states '''\n",
        "        Q_targets = rewards + (gamma * Q_targets_next * (1 - dones))\n",
        "\n",
        "        ''' Get expected Q values from local model '''\n",
        "        Q_expected = self.qnetwork_local(states).gather(1, actions)\n",
        "\n",
        "        ''' Compute loss '''\n",
        "        loss = F.mse_loss(Q_expected, Q_targets)\n",
        "\n",
        "        ''' Minimize the loss '''\n",
        "        self.optimizer.zero_grad()\n",
        "        loss.backward()\n",
        "        \n",
        "        ''' Gradiant Clipping '''\n",
        "        \"\"\" +T TRUNCATION PRESENT \"\"\"\n",
        "        for param in self.qnetwork_local.parameters():\n",
        "            param.grad.data.clamp_(-1, 1)\n",
        "            \n",
        "        self.optimizer.step()"
      ],
      "metadata": {
        "id": "7znVFXg6-mH6"
      },
      "execution_count": null,
      "outputs": []
    },
    {
      "cell_type": "code",
      "source": [
        "''' Defining DQN Algorithm '''\n",
        "\n",
        "state_shape = env.observation_space.shape[0]\n",
        "action_shape = env.action_space.n\n",
        "\n",
        "def dqn(n_episodes=10000, max_t=1000, temp_start=10000.0, temp_end=0.001, temp_decay=0.995):  # a very large temp initially and slowly dec.\n",
        "\n",
        "    scores = []                 \n",
        "    ''' list containing scores from each episode '''\n",
        "\n",
        "    scores_window_printing = deque(maxlen=10) \n",
        "    ''' For printing in the graph '''\n",
        "    \n",
        "    scores_window= deque(maxlen=100)  \n",
        "    ''' last 100 scores for checking if the avg is more than 195 '''\n",
        "\n",
        "    temp = temp_start                    \n",
        "    ''' initialize epsilon '''\n",
        "\n",
        "    for i_episode in range(1, n_episodes+1):\n",
        "        state = env.reset()\n",
        "        score = 0\n",
        "        for t in range(max_t):\n",
        "            action = agent.act(state, temp)\n",
        "            next_state, reward, done, _ = env.step(action)\n",
        "            agent.step(state, action, reward, next_state, done)\n",
        "            state = next_state\n",
        "            score += reward\n",
        "            if done:\n",
        "                break \n",
        "\n",
        "        scores_window.append(score)       \n",
        "        scores_window_printing.append(score)   \n",
        "        ''' save most recent score '''           \n",
        "\n",
        "        temp = max(temp_end, temp_decay*temp) \n",
        "        ''' decrease temp '''\n",
        "\n",
        "        print('\\rEpisode {}\\tAverage Score: {:.2f}'.format(i_episode, np.mean(scores_window)), end=\"\")  \n",
        "        if i_episode % 10 == 0: \n",
        "            scores.append(np.mean(scores_window_printing))        \n",
        "        if i_episode % 100 == 0: \n",
        "           print('\\rEpisode {}\\tAverage Score: {:.2f}'.format(i_episode, np.mean(scores_window)))\n",
        "        if np.mean(scores_window)>=195.0:\n",
        "           print('\\nEnvironment solved in {:d} episodes!\\tAverage Score: {:.2f}'.format(i_episode-100, np.mean(scores_window)))\n",
        "           break\n",
        "    return [np.array(scores),i_episode]\n",
        "\n",
        "''' Trial run to check if algorithm runs and saves the data '''\n",
        "\n",
        "begin_time = datetime.datetime.now()\n",
        "agent = TutorialAgent(state_size=state_shape,action_size = action_shape,seed = 0)\n",
        "\n",
        "\n",
        "softmax_scores,softmax_iters = dqn()\n",
        "\n",
        "\n",
        "time_taken = datetime.datetime.now() - begin_time\n",
        "\n",
        "print(time_taken)"
      ],
      "metadata": {
        "id": "3ocgcxra-mwK",
        "colab": {
          "base_uri": "https://localhost:8080/"
        },
        "outputId": "e577e557-be1e-4dd4-e937-9dedafc158a9"
      },
      "execution_count": null,
      "outputs": [
        {
          "output_type": "stream",
          "name": "stdout",
          "text": [
            "Episode 100\tAverage Score: 24.73\n",
            "Episode 200\tAverage Score: 20.63\n",
            "Episode 300\tAverage Score: 21.17\n",
            "Episode 400\tAverage Score: 21.60\n",
            "Episode 500\tAverage Score: 26.50\n",
            "Episode 600\tAverage Score: 34.89\n",
            "Episode 700\tAverage Score: 101.59\n",
            "Episode 800\tAverage Score: 183.16\n",
            "Episode 900\tAverage Score: 51.69\n",
            "Episode 1000\tAverage Score: 91.06\n",
            "Episode 1100\tAverage Score: 32.88\n",
            "Episode 1200\tAverage Score: 23.90\n",
            "Episode 1300\tAverage Score: 21.42\n",
            "Episode 1400\tAverage Score: 69.05\n",
            "Episode 1500\tAverage Score: 21.83\n",
            "Episode 1600\tAverage Score: 9.45\n",
            "Episode 1700\tAverage Score: 12.46\n",
            "Episode 1800\tAverage Score: 27.59\n",
            "Episode 1900\tAverage Score: 42.92\n",
            "Episode 2000\tAverage Score: 119.75\n",
            "Episode 2100\tAverage Score: 131.99\n",
            "Episode 2200\tAverage Score: 137.58\n",
            "Episode 2300\tAverage Score: 151.37\n",
            "Episode 2400\tAverage Score: 154.97\n",
            "Episode 2500\tAverage Score: 185.40\n",
            "Episode 2533\tAverage Score: 195.05\n",
            "Environment solved in 2433 episodes!\tAverage Score: 195.05\n",
            "0:09:27.499081\n"
          ]
        }
      ]
    },
    {
      "cell_type": "code",
      "source": [
        "plt.figure(figsize=(9,6))\n",
        "plt.xlabel('Episodes')\n",
        "plt.ylabel('Avg_score over 10 episodes')\n",
        "plt.plot(np.arange(10,np.floor(epsilon_iters),10),epsilon_scores,label='\\epsilon-greedy')\n",
        "plt.plot(np.arange(10,np.floor(softmax_iters),10),softmax_scores,label='softmax')\n",
        "plt.legend()\n"
      ],
      "metadata": {
        "colab": {
          "base_uri": "https://localhost:8080/",
          "height": 406
        },
        "id": "oltxbuBkkR0u",
        "outputId": "baf342c4-f7ba-42c0-a4a8-bb214d0281a7"
      },
      "execution_count": null,
      "outputs": [
        {
          "output_type": "execute_result",
          "data": {
            "text/plain": [
              "<matplotlib.legend.Legend at 0x7fc8c705de10>"
            ]
          },
          "metadata": {},
          "execution_count": 36
        },
        {
          "output_type": "display_data",
          "data": {
            "image/png": "[encoded data removed]",
            "text/plain": [
              "<Figure size 648x432 with 1 Axes>"
            ]
          },
          "metadata": {
            "needs_background": "light"
          }
        }
      ]
    },
    {
      "cell_type": "markdown",
      "source": [
        "I've tried a similar approach as in e-greedy method wherein initially a large value of temperature is chosen to facilitate exploration and then slowly reduced in the due course of episodes.\n",
        "\n",
        "The above results(atleast for the hyperparameters I considered) indicate that both policies achieve the target close to 2500 episodes. Some more experiments and parameter tuning is required to derive further inferences about their performance.\n",
        "\n",
        "In terms of compute time, e-greedy method is quicker than softmax."
      ],
      "metadata": {
        "id": "DjcBDGQG33KH"
      }
    },
    {
      "cell_type": "markdown",
      "source": [
        "## **Part 2: One-Step Actor-Critic Algorithm**"
      ],
      "metadata": {
        "id": "Zt6xX0njbJvS"
      }
    },
    {
      "cell_type": "markdown",
      "source": [
        "**Actor-Critic methods** learn both a policy $\\pi(a|s;\\theta)$ and a state-value function $v(s;w)$ simultaneously. The policy is referred to as the actor that suggests actions given a state. The estimated value function is referred to as the critic. It evaluates actions taken by the actor based on the given policy. In this exercise, both functions are approximated by feedforward neural networks. \n",
        "\n",
        "- The policy network is parametrized by $\\theta$ - it takes a state $s$ as input and outputs the probabilities $\\pi(a|s;\\theta)\\ \\forall\\ a$\n",
        "- The value network is parametrized by $w$ - it takes a state $s$ as input and outputs a scalar value associated with the state, i.e., $v(s;w)$\n",
        "- The single step TD error can be defined as follows:\n",
        "$$\\delta_t  = R_{t+1} + \\gamma v(s_{t+1};w) - v(s_t;w)$$\n",
        "- The loss function to be minimized at every step ($L_{tot}^{(t)}$) is a summation of two terms, as follows:\n",
        "$$L_{tot}^{(t)} = L_{actor}^{(t)} + L_{critic}^{(t)}$$\n",
        "where,\n",
        "$$L_{actor}^{(t)} = -\\log\\pi(a_t|s_t; \\theta)\\delta_t$$\n",
        "$$L_{critic}^{(t)} = \\delta_t^2$$\n",
        "- **NOTE: Here, weights of the first two hidden layers are shared by the policy and the value network**\n",
        "    - First two hidden layer sizes: [1024, 512]\n",
        "    - Output size of policy network: 2 (Softmax activation)\n",
        "    - Output size of value network: 1 (Linear activation)\n",
        "\n",
        "<!-- $$\\pi(a|s;\\theta) = \\phi_{\\theta}(a,s)$$ -->"
      ],
      "metadata": {
        "id": "w9WWiiNxhM7x"
      }
    },
    {
      "cell_type": "markdown",
      "source": [
        "### Initializing Actor-Critic Network"
      ],
      "metadata": {
        "id": "1eU3_IeYwN3H"
      }
    },
    {
      "cell_type": "code",
      "source": [
        "class ActorCriticModel(tf.keras.Model):\n",
        "    \"\"\"\n",
        "    Defining policy and value networkss\n",
        "    \"\"\"\n",
        "    def __init__(self, action_size, n_hidden1=1024, n_hidden2=512):\n",
        "        super(ActorCriticModel, self).__init__()\n",
        "\n",
        "        #Hidden Layer 1\n",
        "        self.fc1 = tf.keras.layers.Dense(n_hidden1, activation='relu')\n",
        "        #Hidden Layer 2\n",
        "        self.fc2 = tf.keras.layers.Dense(n_hidden2, activation='relu')\n",
        "        \n",
        "        #Output Layer for policy\n",
        "        self.pi_out = tf.keras.layers.Dense(action_size, activation='softmax')\n",
        "        #Output Layer for state-value\n",
        "        self.v_out = tf.keras.layers.Dense(1)\n",
        "\n",
        "    def call(self, state):\n",
        "        \"\"\"\n",
        "        Computes policy distribution and state-value for a given state\n",
        "        \"\"\"\n",
        "        layer1 = self.fc1(state)\n",
        "        layer2 = self.fc2(layer1)\n",
        "\n",
        "        pi = self.pi_out(layer2)\n",
        "        v = self.v_out(layer2)\n",
        "\n",
        "        return pi, v"
      ],
      "metadata": {
        "id": "MXFHQcJjVKYu"
      },
      "execution_count": null,
      "outputs": []
    },
    {
      "cell_type": "markdown",
      "source": [
        "### Agent Class\n",
        "###**Task 2a:** Write code to compute $\\delta_t$ inside the Agent.learn() function\n",
        "\n"
      ],
      "metadata": {
        "id": "40uV1hrewVnA"
      }
    },
    {
      "cell_type": "code",
      "source": [
        "class Agent:\n",
        "    \"\"\"\n",
        "    Agent class\n",
        "    \"\"\"\n",
        "    def __init__(self, action_size, lr=0.001, gamma=0.99, seed = 85):\n",
        "        self.gamma = gamma\n",
        "        self.ac_model = ActorCriticModel(action_size=action_size)\n",
        "        self.ac_model.compile(tf.keras.optimizers.Adam(learning_rate=lr))\n",
        "        np.random.seed(seed)\n",
        "    \n",
        "    def sample_action(self, state):\n",
        "        \"\"\"\n",
        "        Given a state, compute the policy distribution over all actions and sample one action\n",
        "        \"\"\"\n",
        "        pi,_ = self.ac_model(state)\n",
        "\n",
        "        action_probabilities = tfp.distributions.Categorical(probs=pi)\n",
        "        sample = action_probabilities.sample()\n",
        "\n",
        "        return int(sample.numpy()[0])\n",
        "\n",
        "    def actor_loss(self, action, pi, delta):\n",
        "        \"\"\"\n",
        "        Compute Actor Loss\n",
        "        \"\"\"\n",
        "        return -tf.math.log(pi[0,action]) * delta\n",
        "\n",
        "    def critic_loss(self,delta):\n",
        "        \"\"\"\n",
        "        Critic loss aims to minimize TD error\n",
        "        \"\"\"\n",
        "        return delta**2\n",
        "\n",
        "    @tf.function\n",
        "    def learn(self, state, action, reward, next_state, done):\n",
        "        \"\"\"\n",
        "        For a given transition (s,a,s',r) update the paramters by computing the\n",
        "        gradient of the total loss\n",
        "        \"\"\"\n",
        "        with tf.GradientTape(persistent=True) as tape:\n",
        "            pi, V_s = self.ac_model(state)\n",
        "            _, V_s_next = self.ac_model(next_state)\n",
        "\n",
        "            V_s = tf.squeeze(V_s)\n",
        "            V_s_next = tf.squeeze(V_s_next)\n",
        "            \n",
        "\n",
        "            #### TO DO: Write the equation for delta (TD error)\n",
        "            ## Write code below\n",
        "            delta = reward + self.gamma*V_s_next-V_s\n",
        "\n",
        "            loss_a = self.actor_loss(action, pi, delta)\n",
        "            loss_c =self.critic_loss(delta)\n",
        "            loss_total = loss_a + loss_c\n",
        "\n",
        "        gradient = tape.gradient(loss_total, self.ac_model.trainable_variables)\n",
        "        self.ac_model.optimizer.apply_gradients(zip(gradient, self.ac_model.trainable_variables))"
      ],
      "metadata": {
        "id": "9RNpp9WMfkTE"
      },
      "execution_count": null,
      "outputs": []
    },
    {
      "cell_type": "markdown",
      "source": [
        "### Train the Network"
      ],
      "metadata": {
        "id": "bUJwznIzwBIX"
      }
    },
    {
      "cell_type": "code",
      "source": [
        "env = gym.make('CartPole-v0')\n",
        "\n",
        "#Initializing Agent\n",
        "agent = Agent(lr=1e-4, action_size=env.action_space.n)\n",
        "#Number of episodes\n",
        "episodes = 1800\n",
        "tf.compat.v1.reset_default_graph()\n",
        "\n",
        "reward_list = []\n",
        "average_reward_list = []\n",
        "begin_time = datetime.datetime.now()\n",
        "\n",
        "for ep in range(1, episodes + 1):\n",
        "    state = env.reset().reshape(1,-1)\n",
        "    done = False\n",
        "    ep_rew = 0\n",
        "    while not done:\n",
        "        action = agent.sample_action(state) ##Sample Action\n",
        "        next_state, reward, done, info = env.step(action) ##Take action\n",
        "        next_state = next_state.reshape(1,-1)\n",
        "        ep_rew += reward  ##Updating episode reward\n",
        "        agent.learn(state, action, reward, next_state, done) ##Update Parameters\n",
        "        state = next_state ##Updating State\n",
        "    reward_list.append(ep_rew)\n",
        "\n",
        "    if ep % 10 == 0:\n",
        "        avg_rew = np.mean(reward_list[-10:])\n",
        "        print('Episode ', ep, 'Reward %f' % ep_rew, 'Average Reward %f' % avg_rew)\n",
        "\n",
        "    if ep % 100:\n",
        "        avg_100 =  np.mean(reward_list[-100:])\n",
        "        if avg_100 > 195.0:\n",
        "            print('Stopped at Episode ',ep)\n",
        "            break\n",
        "\n",
        "time_taken = datetime.datetime.now() - begin_time\n",
        "print(time_taken)"
      ],
      "metadata": {
        "colab": {
          "base_uri": "https://localhost:8080/"
        },
        "id": "Q0SB0o_OfyGN",
        "outputId": "284f8a6f-3bba-49cf-fa48-fc5c2ea2f05d"
      },
      "execution_count": null,
      "outputs": [
        {
          "output_type": "stream",
          "name": "stdout",
          "text": [
            "Episode  10 Reward 69.000000 Average Reward 33.000000\n",
            "Episode  20 Reward 85.000000 Average Reward 61.900000\n",
            "Episode  30 Reward 64.000000 Average Reward 81.500000\n",
            "Episode  40 Reward 114.000000 Average Reward 95.000000\n",
            "Episode  50 Reward 67.000000 Average Reward 78.100000\n",
            "Episode  60 Reward 47.000000 Average Reward 82.800000\n",
            "Episode  70 Reward 78.000000 Average Reward 85.500000\n",
            "Episode  80 Reward 74.000000 Average Reward 78.000000\n",
            "Episode  90 Reward 105.000000 Average Reward 85.000000\n",
            "Episode  100 Reward 91.000000 Average Reward 79.400000\n",
            "Episode  110 Reward 53.000000 Average Reward 72.900000\n",
            "Episode  120 Reward 50.000000 Average Reward 56.000000\n",
            "Episode  130 Reward 62.000000 Average Reward 64.300000\n",
            "Episode  140 Reward 200.000000 Average Reward 108.000000\n",
            "Episode  150 Reward 130.000000 Average Reward 191.200000\n",
            "Episode  160 Reward 200.000000 Average Reward 195.800000\n",
            "Episode  170 Reward 200.000000 Average Reward 200.000000\n",
            "Episode  180 Reward 200.000000 Average Reward 200.000000\n",
            "Episode  190 Reward 200.000000 Average Reward 200.000000\n",
            "Episode  200 Reward 200.000000 Average Reward 200.000000\n",
            "Episode  210 Reward 200.000000 Average Reward 200.000000\n",
            "Episode  220 Reward 200.000000 Average Reward 200.000000\n",
            "Episode  230 Reward 200.000000 Average Reward 200.000000\n",
            "Stopped at Episode  235\n",
            "0:03:06.235422\n"
          ]
        }
      ]
    },
    {
      "cell_type": "markdown",
      "source": [
        "### **Task 2b**: Plot total reward curve\n",
        "In the cell below, write code to plot the total reward averaged over 100 episodes (moving average)"
      ],
      "metadata": {
        "id": "twYwsX7Hu1V1"
      }
    },
    {
      "cell_type": "code",
      "source": [
        "### Plot of total reward vs episode\n",
        "## Write Code Below\n",
        "mov_avg=[]\n",
        "for i in range(1,len(reward_list)):\n",
        "  if i > 100:\n",
        "    mov_avg.append(np.mean(reward_list[-100:]))\n",
        "  else:\n",
        "    mov_avg.append(np.mean(reward_list[:i]))\n",
        "\n",
        "plt.figure(figsize=(9,6))\n",
        "plt.xlabel('Episodes')\n",
        "plt.ylabel('Total Rewards')\n",
        "plt.title('Running average of previous 100 rewards')\n",
        "plt.plot(np.arange(1,len(mov_avg)+1),mov_avg)"
      ],
      "metadata": {
        "colab": {
          "base_uri": "https://localhost:8080/",
          "height": 422
        },
        "id": "wOZzkLIgvHgS",
        "outputId": "91f261e1-98cc-457e-cfe1-f0f87b112381"
      },
      "execution_count": null,
      "outputs": [
        {
          "output_type": "execute_result",
          "data": {
            "text/plain": [
              "[<matplotlib.lines.Line2D at 0x7fc93b039b10>]"
            ]
          },
          "metadata": {},
          "execution_count": 48
        },
        {
          "output_type": "display_data",
          "data": {
            "image/png": "[encoded data removed]",
            "text/plain": [
              "<Figure size 648x432 with 1 Axes>"
            ]
          },
          "metadata": {
            "needs_background": "light"
          }
        }
      ]
    },
    {
      "cell_type": "markdown",
      "source": [
        "### Code for rendering ([source](https://colab.research.google.com/drive/1D6bvoEVukil7DUaJU465vtfuDgLDbOY7#scrollTo=qbIMMkfmRHyC))"
      ],
      "metadata": {
        "id": "UjC1dxbuuNL2"
      }
    },
    {
      "cell_type": "code",
      "source": [
        "# Render an episode and save as a GIF file\n",
        "\n",
        "display = Display(visible=0, size=(400, 300))\n",
        "display.start()\n",
        "\n",
        "\n",
        "def render_episode(env: gym.Env, model: tf.keras.Model, max_steps: int): \n",
        "  screen = env.render(mode='rgb_array')\n",
        "  im = Image.fromarray(screen)\n",
        "\n",
        "  images = [im]\n",
        "  \n",
        "  state = tf.constant(env.reset(), dtype=tf.float32)\n",
        "  for i in range(1, max_steps + 1):\n",
        "    state = tf.expand_dims(state, 0)\n",
        "    action_probs, _ = model(state)\n",
        "    action = np.argmax(np.squeeze(action_probs))\n",
        "    state, _, done, _ = env.step(action)\n",
        "    state = tf.constant(state, dtype=tf.float32)\n",
        "\n",
        "    # Render screen every 10 steps\n",
        "    if i % 10 == 0:\n",
        "      screen = env.render(mode='rgb_array')\n",
        "      images.append(Image.fromarray(screen))\n",
        "  \n",
        "    if done:\n",
        "      break\n",
        "  \n",
        "  return images\n",
        "\n",
        "\n",
        "# Save GIF image\n",
        "images = render_episode(env, agent.ac_model, 200)\n",
        "image_file = 'cartpole-v0.gif'\n",
        "# loop=0: loop forever, duration=1: play each frame for 1ms\n",
        "images[0].save(\n",
        "    image_file, save_all=True, append_images=images[1:], loop=0, duration=1)"
      ],
      "metadata": {
        "id": "D2cisMBqgg9Y"
      },
      "execution_count": null,
      "outputs": []
    },
    {
      "cell_type": "code",
      "source": [
        "import tensorflow_docs.vis.embed as embed\n",
        "embed.embed_file(image_file)"
      ],
      "metadata": {
        "colab": {
          "base_uri": "https://localhost:8080/",
          "height": 420
        },
        "id": "2BT7j10-9zms",
        "outputId": "f9ae5c70-20e7-4f7c-fa27-fc6713c9b9dc"
      },
      "execution_count": null,
      "outputs": [
        {
          "output_type": "execute_result",
          "data": {
            "text/html": [
              "<img src=\"data:image/gif;base64,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\"/>"
            ],
            "text/plain": [
              "<IPython.core.display.HTML object>"
            ]
          },
          "metadata": {},
          "execution_count": 45
        }
      ]
    },
    {
      "cell_type": "code",
      "source": [
        ""
      ],
      "metadata": {
        "id": "pgDnDpjC_d9q"
      },
      "execution_count": null,
      "outputs": []
    },
    {
      "cell_type": "code",
      "source": [
        ""
      ],
      "metadata": {
        "id": "B1iJcFEmq6lt"
      },
      "execution_count": null,
      "outputs": []
    },
    {
      "cell_type": "code",
      "source": [
        ""
      ],
      "metadata": {
        "id": "3f3PDRlXq6jK"
      },
      "execution_count": null,
      "outputs": []
    },
    {
      "cell_type": "code",
      "source": [
        ""
      ],
      "metadata": {
        "id": "RhZcKpxcq6gu"
      },
      "execution_count": null,
      "outputs": []
    },
    {
      "cell_type": "code",
      "source": [
        ""
      ],
      "metadata": {
        "id": "lqctinaoq7S-"
      },
      "execution_count": null,
      "outputs": []
    },
    {
      "cell_type": "markdown",
      "metadata": {
        "id": "7PcLxk25s3_F"
      },
      "source": [
        ""
      ]
    }
  ]
}